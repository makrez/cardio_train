{
 "cells": [
  {
   "cell_type": "markdown",
   "metadata": {},
   "source": [
    "# CAS AML Unibe - Module 1 & 2 Project"
   ]
  },
  {
   "cell_type": "markdown",
   "metadata": {},
   "source": [
    "## Analysis of Cardiovascular Disease\n",
    "\n",
    "Group:\n",
    "    \n",
    "- Asad bin Imtiaz \n",
    "- Hop Nguyen\n",
    "- Marco Kreuzer"
   ]
  },
  {
   "cell_type": "markdown",
   "metadata": {},
   "source": [
    "## Introduction\n",
    "\n",
    "In this project we aimed to find a way to predict the Cardiovascular Disease (CVD) using medical and demographoic features from around 70,000 patients. Cardiovascular disease (CVD) is a general term for conditions diseases that affect heart and blood vessels. CVD is a leading cause of death and disability in Swizerland and around the world, but a large part of can be prevented by maintaining a healthy lifestyle.\n",
    "\n",
    "According to the latest WHO data published in 2020 Coronary Heart Disease Deaths in Switzerland reached 10,713 or 18.49% of total deaths. The age adjusted Death Rate is 41.51 per 100,000 of population ranks Switzerland #170 in the world. Cardiovascular disease and cancer are two of most widespread causes of death in Switzerland. \n",
    "\n",
    "Several machine learning (ML) algorithms are increasingly being used to predict cardiovascular disease. We attempted here to build ML models to pridict the disease using a few common demographical and medical features with high accuracy. We employed several Unsumervised and Supervise approaches to predict the disease with high accuracy"
   ]
  },
  {
   "cell_type": "markdown",
   "metadata": {},
   "source": [
    "## Dataset\n",
    "\n",
    "This dataset is openly accessible and was downloaded from Kaggle. \n",
    "\n",
    "The link to data is: https://www.kaggle.com/datasets/sulianova/cardiovascular-disease-dataset\n",
    "\n",
    "There are 3 types of input features:\n",
    "\n",
    "Objective  : Factual & demographic information\n",
    "Examination: Results of medical examination\n",
    "Subjective : Information provided by the patient\n",
    "\n",
    "Following features are available in the data.\n",
    "\n",
    "|Feature Name |Kind |Header|DataType|\n",
    "|:-|:-|:-|:-|\n",
    "|Age | Objective Feature | age | int (days) |\n",
    "|Height | Objective Feature | height | int (cm) |\n",
    "|Weight | Objective Feature | weight | float (kg) |\n",
    "|Gender | Objective Feature | gender | categorical code |\n",
    "|Systolic blood pressure | Examination Feature | ap_hi | int |\n",
    "|Diastolic blood pressure | Examination Feature | ap_lo | int |\n",
    "|Cholesterol | Examination Feature | cholesterol | 1: normal, 2: above normal, 3: well above normal |\n",
    "|Glucose | Examination Feature | gluc | 1: normal, 2: above normal, 3: well above normal |\n",
    "|Smoking | Subjective Feature | smoke | binary |\n",
    "|Alcohol intake | Subjective Feature | alco | binary |\n",
    "|Physical activity | Subjective Feature | active | binary |\n",
    "|Presence or absence of CVD |**Target Variable**| cardio | binary |"
   ]
  },
  {
   "cell_type": "markdown",
   "metadata": {},
   "source": [
    "## Setup\n",
    "\n",
    "Following Python libraries are installed and imported\n",
    "\n",
    "* pip install pandas\n",
    "* pip install numpy\n",
    "* pip install opendatasets\n",
    "* pip install matplotlib\n",
    "* pip install seaborn\n",
    "* pip install sklearn"
   ]
  },
  {
   "cell_type": "code",
   "execution_count": 1,
   "metadata": {},
   "outputs": [],
   "source": [
    "import pandas as pd\n",
    "import numpy as np\n",
    "import opendatasets as od\n",
    "import matplotlib.pyplot as plt\n",
    "import seaborn as sns\n",
    "\n",
    "from sklearn.model_selection import train_test_split,cross_val_predict\n",
    "from sklearn.preprocessing import StandardScaler"
   ]
  },
  {
   "cell_type": "markdown",
   "metadata": {},
   "source": [
    "### Download the dataset\n",
    "\n",
    "You can create a Kaggle API token from your Kaggle account and put this file in .kaggle directory your home directory. \n",
    "Alternately you may iser Kaggle API command\n",
    "\n",
    "kaggle datasets download -d sulianova/cardiovascular-disease-dataset"
   ]
  },
  {
   "cell_type": "code",
   "execution_count": 2,
   "metadata": {},
   "outputs": [
    {
     "name": "stdout",
     "output_type": "stream",
     "text": [
      "Skipping, found downloaded files in \".\\cardiovascular-disease-dataset\" (use force=True to force download)\n"
     ]
    }
   ],
   "source": [
    "od.download(\"https://www.kaggle.com/datasets/sulianova/cardiovascular-disease-dataset\")"
   ]
  },
  {
   "cell_type": "markdown",
   "metadata": {},
   "source": [
    "## Load data in Pandas\n",
    "\n",
    "Lets load the data in a Pandas dataframe and have a first look"
   ]
  },
  {
   "cell_type": "code",
   "execution_count": 3,
   "metadata": {},
   "outputs": [
    {
     "data": {
      "text/html": [
       "<div>\n",
       "<style scoped>\n",
       "    .dataframe tbody tr th:only-of-type {\n",
       "        vertical-align: middle;\n",
       "    }\n",
       "\n",
       "    .dataframe tbody tr th {\n",
       "        vertical-align: top;\n",
       "    }\n",
       "\n",
       "    .dataframe thead th {\n",
       "        text-align: right;\n",
       "    }\n",
       "</style>\n",
       "<table border=\"1\" class=\"dataframe\">\n",
       "  <thead>\n",
       "    <tr style=\"text-align: right;\">\n",
       "      <th></th>\n",
       "      <th>id</th>\n",
       "      <th>age</th>\n",
       "      <th>gender</th>\n",
       "      <th>height</th>\n",
       "      <th>weight</th>\n",
       "      <th>ap_hi</th>\n",
       "      <th>ap_lo</th>\n",
       "      <th>cholesterol</th>\n",
       "      <th>gluc</th>\n",
       "      <th>smoke</th>\n",
       "      <th>alco</th>\n",
       "      <th>active</th>\n",
       "      <th>cardio</th>\n",
       "    </tr>\n",
       "  </thead>\n",
       "  <tbody>\n",
       "    <tr>\n",
       "      <th>0</th>\n",
       "      <td>0</td>\n",
       "      <td>18393</td>\n",
       "      <td>2</td>\n",
       "      <td>168</td>\n",
       "      <td>62.0</td>\n",
       "      <td>110</td>\n",
       "      <td>80</td>\n",
       "      <td>1</td>\n",
       "      <td>1</td>\n",
       "      <td>0</td>\n",
       "      <td>0</td>\n",
       "      <td>1</td>\n",
       "      <td>0</td>\n",
       "    </tr>\n",
       "    <tr>\n",
       "      <th>1</th>\n",
       "      <td>1</td>\n",
       "      <td>20228</td>\n",
       "      <td>1</td>\n",
       "      <td>156</td>\n",
       "      <td>85.0</td>\n",
       "      <td>140</td>\n",
       "      <td>90</td>\n",
       "      <td>3</td>\n",
       "      <td>1</td>\n",
       "      <td>0</td>\n",
       "      <td>0</td>\n",
       "      <td>1</td>\n",
       "      <td>1</td>\n",
       "    </tr>\n",
       "    <tr>\n",
       "      <th>2</th>\n",
       "      <td>2</td>\n",
       "      <td>18857</td>\n",
       "      <td>1</td>\n",
       "      <td>165</td>\n",
       "      <td>64.0</td>\n",
       "      <td>130</td>\n",
       "      <td>70</td>\n",
       "      <td>3</td>\n",
       "      <td>1</td>\n",
       "      <td>0</td>\n",
       "      <td>0</td>\n",
       "      <td>0</td>\n",
       "      <td>1</td>\n",
       "    </tr>\n",
       "    <tr>\n",
       "      <th>3</th>\n",
       "      <td>3</td>\n",
       "      <td>17623</td>\n",
       "      <td>2</td>\n",
       "      <td>169</td>\n",
       "      <td>82.0</td>\n",
       "      <td>150</td>\n",
       "      <td>100</td>\n",
       "      <td>1</td>\n",
       "      <td>1</td>\n",
       "      <td>0</td>\n",
       "      <td>0</td>\n",
       "      <td>1</td>\n",
       "      <td>1</td>\n",
       "    </tr>\n",
       "    <tr>\n",
       "      <th>4</th>\n",
       "      <td>4</td>\n",
       "      <td>17474</td>\n",
       "      <td>1</td>\n",
       "      <td>156</td>\n",
       "      <td>56.0</td>\n",
       "      <td>100</td>\n",
       "      <td>60</td>\n",
       "      <td>1</td>\n",
       "      <td>1</td>\n",
       "      <td>0</td>\n",
       "      <td>0</td>\n",
       "      <td>0</td>\n",
       "      <td>0</td>\n",
       "    </tr>\n",
       "  </tbody>\n",
       "</table>\n",
       "</div>"
      ],
      "text/plain": [
       "   id    age  gender  height  weight  ap_hi  ap_lo  cholesterol  gluc  smoke  \\\n",
       "0   0  18393       2     168    62.0    110     80            1     1      0   \n",
       "1   1  20228       1     156    85.0    140     90            3     1      0   \n",
       "2   2  18857       1     165    64.0    130     70            3     1      0   \n",
       "3   3  17623       2     169    82.0    150    100            1     1      0   \n",
       "4   4  17474       1     156    56.0    100     60            1     1      0   \n",
       "\n",
       "   alco  active  cardio  \n",
       "0     0       1       0  \n",
       "1     0       1       1  \n",
       "2     0       0       1  \n",
       "3     0       1       1  \n",
       "4     0       0       0  "
      ]
     },
     "execution_count": 3,
     "metadata": {},
     "output_type": "execute_result"
    }
   ],
   "source": [
    "df = pd.read_csv('cardiovascular-disease-dataset/cardio_train.csv',sep=\";\")\n",
    "df.head(5)"
   ]
  },
  {
   "cell_type": "markdown",
   "metadata": {},
   "source": [
    "Lets have a closer look at the dataset. Starting with inferred datatypes:"
   ]
  },
  {
   "cell_type": "code",
   "execution_count": 4,
   "metadata": {},
   "outputs": [
    {
     "data": {
      "text/plain": [
       "id               int64\n",
       "age              int64\n",
       "gender           int64\n",
       "height           int64\n",
       "weight         float64\n",
       "ap_hi            int64\n",
       "ap_lo            int64\n",
       "cholesterol      int64\n",
       "gluc             int64\n",
       "smoke            int64\n",
       "alco             int64\n",
       "active           int64\n",
       "cardio           int64\n",
       "dtype: object"
      ]
     },
     "execution_count": 4,
     "metadata": {},
     "output_type": "execute_result"
    }
   ],
   "source": [
    "df.dtypes"
   ]
  },
  {
   "cell_type": "markdown",
   "metadata": {},
   "source": [
    "The id is not really user. Lets convert it to a string."
   ]
  },
  {
   "cell_type": "code",
   "execution_count": 5,
   "metadata": {},
   "outputs": [
    {
     "data": {
      "text/plain": [
       "0            0\n",
       "1            1\n",
       "2            2\n",
       "3            3\n",
       "4            4\n",
       "         ...  \n",
       "69995    99993\n",
       "69996    99995\n",
       "69997    99996\n",
       "69998    99998\n",
       "69999    99999\n",
       "Name: id, Length: 70000, dtype: string"
      ]
     },
     "execution_count": 5,
     "metadata": {},
     "output_type": "execute_result"
    }
   ],
   "source": [
    "df.id.astype('string')"
   ]
  },
  {
   "cell_type": "markdown",
   "metadata": {},
   "source": [
    "The age is in days, lets convert it into years."
   ]
  },
  {
   "cell_type": "markdown",
   "metadata": {},
   "source": [
    "### Feature enhancement and Cleansing"
   ]
  },
  {
   "cell_type": "code",
   "execution_count": 6,
   "metadata": {},
   "outputs": [
    {
     "data": {
      "text/html": [
       "<div>\n",
       "<style scoped>\n",
       "    .dataframe tbody tr th:only-of-type {\n",
       "        vertical-align: middle;\n",
       "    }\n",
       "\n",
       "    .dataframe tbody tr th {\n",
       "        vertical-align: top;\n",
       "    }\n",
       "\n",
       "    .dataframe thead th {\n",
       "        text-align: right;\n",
       "    }\n",
       "</style>\n",
       "<table border=\"1\" class=\"dataframe\">\n",
       "  <thead>\n",
       "    <tr style=\"text-align: right;\">\n",
       "      <th></th>\n",
       "      <th>id</th>\n",
       "      <th>age</th>\n",
       "      <th>gender</th>\n",
       "      <th>height</th>\n",
       "      <th>weight</th>\n",
       "      <th>ap_hi</th>\n",
       "      <th>ap_lo</th>\n",
       "      <th>cholesterol</th>\n",
       "      <th>gluc</th>\n",
       "      <th>smoke</th>\n",
       "      <th>alco</th>\n",
       "      <th>active</th>\n",
       "      <th>cardio</th>\n",
       "    </tr>\n",
       "  </thead>\n",
       "  <tbody>\n",
       "    <tr>\n",
       "      <th>0</th>\n",
       "      <td>0</td>\n",
       "      <td>50.391781</td>\n",
       "      <td>2</td>\n",
       "      <td>168</td>\n",
       "      <td>62.0</td>\n",
       "      <td>110</td>\n",
       "      <td>80</td>\n",
       "      <td>1</td>\n",
       "      <td>1</td>\n",
       "      <td>0</td>\n",
       "      <td>0</td>\n",
       "      <td>1</td>\n",
       "      <td>0</td>\n",
       "    </tr>\n",
       "    <tr>\n",
       "      <th>1</th>\n",
       "      <td>1</td>\n",
       "      <td>55.419178</td>\n",
       "      <td>1</td>\n",
       "      <td>156</td>\n",
       "      <td>85.0</td>\n",
       "      <td>140</td>\n",
       "      <td>90</td>\n",
       "      <td>3</td>\n",
       "      <td>1</td>\n",
       "      <td>0</td>\n",
       "      <td>0</td>\n",
       "      <td>1</td>\n",
       "      <td>1</td>\n",
       "    </tr>\n",
       "  </tbody>\n",
       "</table>\n",
       "</div>"
      ],
      "text/plain": [
       "   id        age  gender  height  weight  ap_hi  ap_lo  cholesterol  gluc  \\\n",
       "0   0  50.391781       2     168    62.0    110     80            1     1   \n",
       "1   1  55.419178       1     156    85.0    140     90            3     1   \n",
       "\n",
       "   smoke  alco  active  cardio  \n",
       "0      0     0       1       0  \n",
       "1      0     0       1       1  "
      ]
     },
     "execution_count": 6,
     "metadata": {},
     "output_type": "execute_result"
    }
   ],
   "source": [
    "df_feature = df.copy()\n",
    "df_feature.age = ((df_feature.age/365))\n",
    "#df_feature.age = df_feature.age.astype('int')\n",
    "df_feature.head(2)"
   ]
  },
  {
   "cell_type": "markdown",
   "metadata": {},
   "source": [
    "The id is not really a feature. Let us get rid of it."
   ]
  },
  {
   "cell_type": "code",
   "execution_count": 7,
   "metadata": {},
   "outputs": [],
   "source": [
    "df_feature = df_feature.drop(['id'],axis=1)"
   ]
  },
  {
   "cell_type": "markdown",
   "metadata": {},
   "source": [
    "Lets see if there are any duplicates in the data and get rid of them."
   ]
  },
  {
   "cell_type": "code",
   "execution_count": 8,
   "metadata": {},
   "outputs": [
    {
     "data": {
      "text/plain": [
       "24"
      ]
     },
     "execution_count": 8,
     "metadata": {},
     "output_type": "execute_result"
    }
   ],
   "source": [
    "df_feature.duplicated().sum()"
   ]
  },
  {
   "cell_type": "code",
   "execution_count": 9,
   "metadata": {},
   "outputs": [],
   "source": [
    "df_feature.drop_duplicates(inplace=True)"
   ]
  },
  {
   "cell_type": "markdown",
   "metadata": {},
   "source": [
    "The gender values are 1 or 2 but we do not know if 1 means male or female. Generally females are shorter than male. Also they are lighter than males. Lets try to figure out the gender based on these assumptions."
   ]
  },
  {
   "cell_type": "code",
   "execution_count": 10,
   "metadata": {},
   "outputs": [
    {
     "data": {
      "text/html": [
       "<div>\n",
       "<style scoped>\n",
       "    .dataframe tbody tr th:only-of-type {\n",
       "        vertical-align: middle;\n",
       "    }\n",
       "\n",
       "    .dataframe tbody tr th {\n",
       "        vertical-align: top;\n",
       "    }\n",
       "\n",
       "    .dataframe thead th {\n",
       "        text-align: right;\n",
       "    }\n",
       "</style>\n",
       "<table border=\"1\" class=\"dataframe\">\n",
       "  <thead>\n",
       "    <tr style=\"text-align: right;\">\n",
       "      <th></th>\n",
       "      <th>height</th>\n",
       "      <th>weight</th>\n",
       "    </tr>\n",
       "    <tr>\n",
       "      <th>gender</th>\n",
       "      <th></th>\n",
       "      <th></th>\n",
       "    </tr>\n",
       "  </thead>\n",
       "  <tbody>\n",
       "    <tr>\n",
       "      <th>1</th>\n",
       "      <td>161.355612</td>\n",
       "      <td>72.565605</td>\n",
       "    </tr>\n",
       "    <tr>\n",
       "      <th>2</th>\n",
       "      <td>169.947895</td>\n",
       "      <td>77.257307</td>\n",
       "    </tr>\n",
       "  </tbody>\n",
       "</table>\n",
       "</div>"
      ],
      "text/plain": [
       "            height     weight\n",
       "gender                       \n",
       "1       161.355612  72.565605\n",
       "2       169.947895  77.257307"
      ]
     },
     "execution_count": 10,
     "metadata": {},
     "output_type": "execute_result"
    }
   ],
   "source": [
    "df[['gender','height','weight']].groupby('gender').mean()"
   ]
  },
  {
   "cell_type": "markdown",
   "metadata": {},
   "source": [
    "So 1 in gender means Female and 2 is Make. Lets make this feature catagorical where category 0 is Male and 1 is Female."
   ]
  },
  {
   "cell_type": "code",
   "execution_count": 11,
   "metadata": {},
   "outputs": [
    {
     "name": "stdout",
     "output_type": "stream",
     "text": [
      "{'F': 0, 'M': 1}\n"
     ]
    },
    {
     "data": {
      "text/html": [
       "<div>\n",
       "<style scoped>\n",
       "    .dataframe tbody tr th:only-of-type {\n",
       "        vertical-align: middle;\n",
       "    }\n",
       "\n",
       "    .dataframe tbody tr th {\n",
       "        vertical-align: top;\n",
       "    }\n",
       "\n",
       "    .dataframe thead th {\n",
       "        text-align: right;\n",
       "    }\n",
       "</style>\n",
       "<table border=\"1\" class=\"dataframe\">\n",
       "  <thead>\n",
       "    <tr style=\"text-align: right;\">\n",
       "      <th></th>\n",
       "      <th>age</th>\n",
       "      <th>gender</th>\n",
       "      <th>height</th>\n",
       "      <th>weight</th>\n",
       "      <th>ap_hi</th>\n",
       "      <th>ap_lo</th>\n",
       "      <th>cholesterol</th>\n",
       "      <th>gluc</th>\n",
       "      <th>smoke</th>\n",
       "      <th>alco</th>\n",
       "      <th>active</th>\n",
       "      <th>cardio</th>\n",
       "    </tr>\n",
       "  </thead>\n",
       "  <tbody>\n",
       "    <tr>\n",
       "      <th>0</th>\n",
       "      <td>50.391781</td>\n",
       "      <td>M</td>\n",
       "      <td>168</td>\n",
       "      <td>62.0</td>\n",
       "      <td>110</td>\n",
       "      <td>80</td>\n",
       "      <td>1</td>\n",
       "      <td>1</td>\n",
       "      <td>0</td>\n",
       "      <td>0</td>\n",
       "      <td>1</td>\n",
       "      <td>0</td>\n",
       "    </tr>\n",
       "    <tr>\n",
       "      <th>1</th>\n",
       "      <td>55.419178</td>\n",
       "      <td>F</td>\n",
       "      <td>156</td>\n",
       "      <td>85.0</td>\n",
       "      <td>140</td>\n",
       "      <td>90</td>\n",
       "      <td>3</td>\n",
       "      <td>1</td>\n",
       "      <td>0</td>\n",
       "      <td>0</td>\n",
       "      <td>1</td>\n",
       "      <td>1</td>\n",
       "    </tr>\n",
       "  </tbody>\n",
       "</table>\n",
       "</div>"
      ],
      "text/plain": [
       "         age gender  height  weight  ap_hi  ap_lo  cholesterol  gluc  smoke  \\\n",
       "0  50.391781      M     168    62.0    110     80            1     1      0   \n",
       "1  55.419178      F     156    85.0    140     90            3     1      0   \n",
       "\n",
       "   alco  active  cardio  \n",
       "0     0       1       0  \n",
       "1     0       1       1  "
      ]
     },
     "execution_count": 11,
     "metadata": {},
     "output_type": "execute_result"
    }
   ],
   "source": [
    "df_feature.gender = df.gender.map({1: 'F', 2: 'M'}).astype('category')\n",
    "\n",
    "gender_map = dict([ (v,k) for k,v in  enumerate(df_feature.gender.cat.categories )])\n",
    "print(gender_map)\n",
    "\n",
    "df_feature.head(2)"
   ]
  },
  {
   "cell_type": "markdown",
   "metadata": {},
   "source": [
    "Similarly cholestrol and glucose features are also categorical. Lets convert them to categorical type as well."
   ]
  },
  {
   "cell_type": "code",
   "execution_count": 12,
   "metadata": {},
   "outputs": [
    {
     "name": "stdout",
     "output_type": "stream",
     "text": [
      "{'Above Normal': 0, 'High': 1, 'Normal': 2}\n"
     ]
    },
    {
     "data": {
      "text/html": [
       "<div>\n",
       "<style scoped>\n",
       "    .dataframe tbody tr th:only-of-type {\n",
       "        vertical-align: middle;\n",
       "    }\n",
       "\n",
       "    .dataframe tbody tr th {\n",
       "        vertical-align: top;\n",
       "    }\n",
       "\n",
       "    .dataframe thead th {\n",
       "        text-align: right;\n",
       "    }\n",
       "</style>\n",
       "<table border=\"1\" class=\"dataframe\">\n",
       "  <thead>\n",
       "    <tr style=\"text-align: right;\">\n",
       "      <th></th>\n",
       "      <th>age</th>\n",
       "      <th>gender</th>\n",
       "      <th>height</th>\n",
       "      <th>weight</th>\n",
       "      <th>ap_hi</th>\n",
       "      <th>ap_lo</th>\n",
       "      <th>cholesterol</th>\n",
       "      <th>gluc</th>\n",
       "      <th>smoke</th>\n",
       "      <th>alco</th>\n",
       "      <th>active</th>\n",
       "      <th>cardio</th>\n",
       "    </tr>\n",
       "  </thead>\n",
       "  <tbody>\n",
       "    <tr>\n",
       "      <th>0</th>\n",
       "      <td>50.391781</td>\n",
       "      <td>M</td>\n",
       "      <td>168</td>\n",
       "      <td>62.0</td>\n",
       "      <td>110</td>\n",
       "      <td>80</td>\n",
       "      <td>Normal</td>\n",
       "      <td>1</td>\n",
       "      <td>0</td>\n",
       "      <td>0</td>\n",
       "      <td>1</td>\n",
       "      <td>0</td>\n",
       "    </tr>\n",
       "    <tr>\n",
       "      <th>1</th>\n",
       "      <td>55.419178</td>\n",
       "      <td>F</td>\n",
       "      <td>156</td>\n",
       "      <td>85.0</td>\n",
       "      <td>140</td>\n",
       "      <td>90</td>\n",
       "      <td>High</td>\n",
       "      <td>1</td>\n",
       "      <td>0</td>\n",
       "      <td>0</td>\n",
       "      <td>1</td>\n",
       "      <td>1</td>\n",
       "    </tr>\n",
       "  </tbody>\n",
       "</table>\n",
       "</div>"
      ],
      "text/plain": [
       "         age gender  height  weight  ap_hi  ap_lo cholesterol  gluc  smoke  \\\n",
       "0  50.391781      M     168    62.0    110     80      Normal     1      0   \n",
       "1  55.419178      F     156    85.0    140     90        High     1      0   \n",
       "\n",
       "   alco  active  cardio  \n",
       "0     0       1       0  \n",
       "1     0       1       1  "
      ]
     },
     "execution_count": 12,
     "metadata": {},
     "output_type": "execute_result"
    }
   ],
   "source": [
    "df_feature.cholesterol = df.cholesterol.map({1: 'Normal', 2: 'Above Normal', 3: 'High'}).astype('category')\n",
    "\n",
    "cholesterol_map = dict([ (v,k) for k,v in  enumerate(df_feature.cholesterol.cat.categories )])\n",
    "print(cholesterol_map)\n",
    "\n",
    "df_feature.head(2)"
   ]
  },
  {
   "cell_type": "code",
   "execution_count": 13,
   "metadata": {},
   "outputs": [
    {
     "name": "stdout",
     "output_type": "stream",
     "text": [
      "{'Above Normal': 0, 'High': 1, 'Normal': 2}\n"
     ]
    },
    {
     "data": {
      "text/html": [
       "<div>\n",
       "<style scoped>\n",
       "    .dataframe tbody tr th:only-of-type {\n",
       "        vertical-align: middle;\n",
       "    }\n",
       "\n",
       "    .dataframe tbody tr th {\n",
       "        vertical-align: top;\n",
       "    }\n",
       "\n",
       "    .dataframe thead th {\n",
       "        text-align: right;\n",
       "    }\n",
       "</style>\n",
       "<table border=\"1\" class=\"dataframe\">\n",
       "  <thead>\n",
       "    <tr style=\"text-align: right;\">\n",
       "      <th></th>\n",
       "      <th>age</th>\n",
       "      <th>gender</th>\n",
       "      <th>height</th>\n",
       "      <th>weight</th>\n",
       "      <th>ap_hi</th>\n",
       "      <th>ap_lo</th>\n",
       "      <th>cholesterol</th>\n",
       "      <th>gluc</th>\n",
       "      <th>smoke</th>\n",
       "      <th>alco</th>\n",
       "      <th>active</th>\n",
       "      <th>cardio</th>\n",
       "    </tr>\n",
       "  </thead>\n",
       "  <tbody>\n",
       "    <tr>\n",
       "      <th>0</th>\n",
       "      <td>50.391781</td>\n",
       "      <td>M</td>\n",
       "      <td>168</td>\n",
       "      <td>62.0</td>\n",
       "      <td>110</td>\n",
       "      <td>80</td>\n",
       "      <td>Normal</td>\n",
       "      <td>Normal</td>\n",
       "      <td>0</td>\n",
       "      <td>0</td>\n",
       "      <td>1</td>\n",
       "      <td>0</td>\n",
       "    </tr>\n",
       "    <tr>\n",
       "      <th>1</th>\n",
       "      <td>55.419178</td>\n",
       "      <td>F</td>\n",
       "      <td>156</td>\n",
       "      <td>85.0</td>\n",
       "      <td>140</td>\n",
       "      <td>90</td>\n",
       "      <td>High</td>\n",
       "      <td>Normal</td>\n",
       "      <td>0</td>\n",
       "      <td>0</td>\n",
       "      <td>1</td>\n",
       "      <td>1</td>\n",
       "    </tr>\n",
       "  </tbody>\n",
       "</table>\n",
       "</div>"
      ],
      "text/plain": [
       "         age gender  height  weight  ap_hi  ap_lo cholesterol    gluc  smoke  \\\n",
       "0  50.391781      M     168    62.0    110     80      Normal  Normal      0   \n",
       "1  55.419178      F     156    85.0    140     90        High  Normal      0   \n",
       "\n",
       "   alco  active  cardio  \n",
       "0     0       1       0  \n",
       "1     0       1       1  "
      ]
     },
     "execution_count": 13,
     "metadata": {},
     "output_type": "execute_result"
    }
   ],
   "source": [
    "df_feature.gluc = df.gluc.map({1: 'Normal', 2: 'Above Normal', 3: 'High'}).astype('category')\n",
    "\n",
    "gluc_map = dict([ (v,k) for k,v in  enumerate(df_feature.gluc.cat.categories )])\n",
    "print(gluc_map)\n",
    "\n",
    "df_feature.head(2)"
   ]
  },
  {
   "cell_type": "markdown",
   "metadata": {},
   "source": [
    "Lets find if there are some gaps or missing values in the dataframe."
   ]
  },
  {
   "cell_type": "code",
   "execution_count": 14,
   "metadata": {},
   "outputs": [
    {
     "data": {
      "text/plain": [
       "age            0\n",
       "gender         0\n",
       "height         0\n",
       "weight         0\n",
       "ap_hi          0\n",
       "ap_lo          0\n",
       "cholesterol    0\n",
       "gluc           0\n",
       "smoke          0\n",
       "alco           0\n",
       "active         0\n",
       "cardio         0\n",
       "dtype: int64"
      ]
     },
     "execution_count": 14,
     "metadata": {},
     "output_type": "execute_result"
    }
   ],
   "source": [
    "df_feature.isnull().sum()"
   ]
  },
  {
   "cell_type": "markdown",
   "metadata": {},
   "source": [
    "Lest see how weight and height for each gender is distributed on a scatter plot."
   ]
  },
  {
   "cell_type": "code",
   "execution_count": 15,
   "metadata": {},
   "outputs": [
    {
     "data": {
      "image/png": "[encoded data removed]",
      "text/plain": [
       "<Figure size 432x288 with 1 Axes>"
      ]
     },
     "metadata": {
      "needs_background": "light"
     },
     "output_type": "display_data"
    }
   ],
   "source": [
    "plt.scatter(df['weight'][(df.gender == 1)], df['height'][(df.gender == 1)], marker='D', color='orange', label='Female')\n",
    "plt.scatter(df['weight'][(df.gender == 2)], df['height'][(df.gender == 2)], marker='o', color='blue'  , label='Male')\n",
    "plt.xlabel('Weight')\n",
    "plt.ylabel('Height')\n",
    "plt.legend()\n",
    "plt.show()"
   ]
  },
  {
   "cell_type": "markdown",
   "metadata": {},
   "source": [
    "It looks like there may be some outliers in height and weight for males and females. Lets replace by their respective average values."
   ]
  },
  {
   "cell_type": "code",
   "execution_count": 16,
   "metadata": {},
   "outputs": [
    {
     "data": {
      "image/png": "[encoded data removed]",
      "text/plain": [
       "<Figure size 432x288 with 1 Axes>"
      ]
     },
     "metadata": {
      "needs_background": "light"
     },
     "output_type": "display_data"
    }
   ],
   "source": [
    "df_feature.loc[((df['height']>= 210) | (df['height']<= 110)) & (df['gender']==1),'height'] = round(df[((df['height']< 210) | (df['height']> 110)) & (df['gender']==1)].height.mean())\n",
    "df_feature.loc[((df['height']>= 220) | (df['height']<= 120)) & (df['gender']==2),'height'] = round(df[((df['height']< 220) | (df['height']> 120)) & (df['gender']==2)].height.mean())\n",
    "df_feature.loc[((df['weight']>= 200) | (df['weight']<= 25))  & (df['gender']==1),'weight'] = round(df[((df['weight']< 200) | (df['weight']> 25))  & (df['gender']==1)].weight.mean())\n",
    "df_feature.loc[((df['weight']>= 215) | (df['weight']<= 30))  & (df['gender']==2),'weight'] = round(df[((df['weight']< 215) | (df['weight']> 30))  & (df['gender']==2)].weight.mean())\n",
    "\n",
    "plt.scatter(df_feature['weight'][(df_feature.gender == 'F')], df_feature['height'][(df_feature.gender == 'F')], marker='D', color='orange', label='Female')\n",
    "plt.scatter(df_feature['weight'][(df_feature.gender == 'M')], df_feature['height'][(df_feature.gender == 'M')], marker='o', color='blue'  , label='Male')\n",
    "plt.xlabel('Weight')\n",
    "plt.ylabel('Height')\n",
    "plt.legend()\n",
    "plt.show()"
   ]
  },
  {
   "cell_type": "markdown",
   "metadata": {},
   "source": [
    "It looks like dataset is now cleaned. Lest have a look at the data distributions."
   ]
  },
  {
   "cell_type": "code",
   "execution_count": 17,
   "metadata": {},
   "outputs": [
    {
     "data": {
      "text/html": [
       "<div>\n",
       "<style scoped>\n",
       "    .dataframe tbody tr th:only-of-type {\n",
       "        vertical-align: middle;\n",
       "    }\n",
       "\n",
       "    .dataframe tbody tr th {\n",
       "        vertical-align: top;\n",
       "    }\n",
       "\n",
       "    .dataframe thead th {\n",
       "        text-align: right;\n",
       "    }\n",
       "</style>\n",
       "<table border=\"1\" class=\"dataframe\">\n",
       "  <thead>\n",
       "    <tr style=\"text-align: right;\">\n",
       "      <th></th>\n",
       "      <th>age</th>\n",
       "      <th>height</th>\n",
       "      <th>weight</th>\n",
       "      <th>ap_hi</th>\n",
       "      <th>ap_lo</th>\n",
       "      <th>smoke</th>\n",
       "      <th>alco</th>\n",
       "      <th>active</th>\n",
       "      <th>cardio</th>\n",
       "    </tr>\n",
       "  </thead>\n",
       "  <tbody>\n",
       "    <tr>\n",
       "      <th>count</th>\n",
       "      <td>69976.000000</td>\n",
       "      <td>69976.000000</td>\n",
       "      <td>69976.000000</td>\n",
       "      <td>69976.000000</td>\n",
       "      <td>69976.000000</td>\n",
       "      <td>69976.000000</td>\n",
       "      <td>69976.000000</td>\n",
       "      <td>69976.000000</td>\n",
       "      <td>69976.000000</td>\n",
       "    </tr>\n",
       "    <tr>\n",
       "      <th>mean</th>\n",
       "      <td>53.339589</td>\n",
       "      <td>164.422216</td>\n",
       "      <td>74.211548</td>\n",
       "      <td>128.820453</td>\n",
       "      <td>96.636261</td>\n",
       "      <td>0.088159</td>\n",
       "      <td>0.053790</td>\n",
       "      <td>0.803718</td>\n",
       "      <td>0.499771</td>\n",
       "    </tr>\n",
       "    <tr>\n",
       "      <th>std</th>\n",
       "      <td>6.759930</td>\n",
       "      <td>7.905990</td>\n",
       "      <td>14.380217</td>\n",
       "      <td>154.037729</td>\n",
       "      <td>188.504581</td>\n",
       "      <td>0.283528</td>\n",
       "      <td>0.225604</td>\n",
       "      <td>0.397187</td>\n",
       "      <td>0.500004</td>\n",
       "    </tr>\n",
       "    <tr>\n",
       "      <th>min</th>\n",
       "      <td>29.583562</td>\n",
       "      <td>111.000000</td>\n",
       "      <td>29.000000</td>\n",
       "      <td>-150.000000</td>\n",
       "      <td>-70.000000</td>\n",
       "      <td>0.000000</td>\n",
       "      <td>0.000000</td>\n",
       "      <td>0.000000</td>\n",
       "      <td>0.000000</td>\n",
       "    </tr>\n",
       "    <tr>\n",
       "      <th>25%</th>\n",
       "      <td>48.394521</td>\n",
       "      <td>159.000000</td>\n",
       "      <td>65.000000</td>\n",
       "      <td>120.000000</td>\n",
       "      <td>80.000000</td>\n",
       "      <td>0.000000</td>\n",
       "      <td>0.000000</td>\n",
       "      <td>1.000000</td>\n",
       "      <td>0.000000</td>\n",
       "    </tr>\n",
       "    <tr>\n",
       "      <th>50%</th>\n",
       "      <td>53.980822</td>\n",
       "      <td>165.000000</td>\n",
       "      <td>72.000000</td>\n",
       "      <td>120.000000</td>\n",
       "      <td>80.000000</td>\n",
       "      <td>0.000000</td>\n",
       "      <td>0.000000</td>\n",
       "      <td>1.000000</td>\n",
       "      <td>0.000000</td>\n",
       "    </tr>\n",
       "    <tr>\n",
       "      <th>75%</th>\n",
       "      <td>58.430137</td>\n",
       "      <td>170.000000</td>\n",
       "      <td>82.000000</td>\n",
       "      <td>140.000000</td>\n",
       "      <td>90.000000</td>\n",
       "      <td>0.000000</td>\n",
       "      <td>0.000000</td>\n",
       "      <td>1.000000</td>\n",
       "      <td>1.000000</td>\n",
       "    </tr>\n",
       "    <tr>\n",
       "      <th>max</th>\n",
       "      <td>64.967123</td>\n",
       "      <td>207.000000</td>\n",
       "      <td>200.000000</td>\n",
       "      <td>16020.000000</td>\n",
       "      <td>11000.000000</td>\n",
       "      <td>1.000000</td>\n",
       "      <td>1.000000</td>\n",
       "      <td>1.000000</td>\n",
       "      <td>1.000000</td>\n",
       "    </tr>\n",
       "  </tbody>\n",
       "</table>\n",
       "</div>"
      ],
      "text/plain": [
       "                age        height        weight         ap_hi         ap_lo  \\\n",
       "count  69976.000000  69976.000000  69976.000000  69976.000000  69976.000000   \n",
       "mean      53.339589    164.422216     74.211548    128.820453     96.636261   \n",
       "std        6.759930      7.905990     14.380217    154.037729    188.504581   \n",
       "min       29.583562    111.000000     29.000000   -150.000000    -70.000000   \n",
       "25%       48.394521    159.000000     65.000000    120.000000     80.000000   \n",
       "50%       53.980822    165.000000     72.000000    120.000000     80.000000   \n",
       "75%       58.430137    170.000000     82.000000    140.000000     90.000000   \n",
       "max       64.967123    207.000000    200.000000  16020.000000  11000.000000   \n",
       "\n",
       "              smoke          alco        active        cardio  \n",
       "count  69976.000000  69976.000000  69976.000000  69976.000000  \n",
       "mean       0.088159      0.053790      0.803718      0.499771  \n",
       "std        0.283528      0.225604      0.397187      0.500004  \n",
       "min        0.000000      0.000000      0.000000      0.000000  \n",
       "25%        0.000000      0.000000      1.000000      0.000000  \n",
       "50%        0.000000      0.000000      1.000000      0.000000  \n",
       "75%        0.000000      0.000000      1.000000      1.000000  \n",
       "max        1.000000      1.000000      1.000000      1.000000  "
      ]
     },
     "execution_count": 17,
     "metadata": {},
     "output_type": "execute_result"
    }
   ],
   "source": [
    "df_feature.describe()"
   ]
  },
  {
   "cell_type": "markdown",
   "metadata": {},
   "source": [
    "It looks like some numerical values like BP are negative or too high or low. A plausible range for ap_hi may be (40-250) and for ap_lo may be (30-180). We need to clean these values. There may be multiple ways to fix them.\n",
    "\n",
    "1. Remove the records with these values\n",
    "2. Replace them with normal medical values (ap_hi : Systolic Normal = 120, ap_lo : Diastolic Normal = 80)\n",
    "3. Replace them with average values of their genders\n",
    "\n",
    "Note we do not consider target values to fill in these unplausible values. That would be cheating."
   ]
  },
  {
   "cell_type": "code",
   "execution_count": 18,
   "metadata": {},
   "outputs": [],
   "source": [
    "n_ap_hi = round(df[((df['ap_hi']>= 60) & (df['ap_hi']<= 240) & (df['ap_lo']>= 30) & (df['ap_lo']<= 180) & (df['ap_hi']>df['ap_lo']))].ap_hi.mean())\n",
    "n_ap_lo = round(df[((df['ap_hi']>= 60) & (df['ap_hi']<= 240) & (df['ap_lo']>= 30) & (df['ap_lo']<= 180) & (df['ap_hi']>df['ap_lo']))].ap_lo.mean())\n",
    "\n",
    "df_feature.loc[((df['ap_hi']< 60) | (df['ap_hi']> 240) | (df['ap_lo']< 30) | (df['ap_lo']> 180) | (df['ap_hi']<=df['ap_lo'])),'ap_hi'] = n_ap_hi\n",
    "df_feature.loc[((df['ap_lo']< 30) | (df['ap_lo']> 180) | (df['ap_lo']< 30) | (df['ap_lo']> 180) | (df['ap_hi']<=df['ap_lo'])),'ap_lo'] = n_ap_lo"
   ]
  },
  {
   "cell_type": "code",
   "execution_count": 19,
   "metadata": {},
   "outputs": [
    {
     "data": {
      "text/html": [
       "<div>\n",
       "<style scoped>\n",
       "    .dataframe tbody tr th:only-of-type {\n",
       "        vertical-align: middle;\n",
       "    }\n",
       "\n",
       "    .dataframe tbody tr th {\n",
       "        vertical-align: top;\n",
       "    }\n",
       "\n",
       "    .dataframe thead th {\n",
       "        text-align: right;\n",
       "    }\n",
       "</style>\n",
       "<table border=\"1\" class=\"dataframe\">\n",
       "  <thead>\n",
       "    <tr style=\"text-align: right;\">\n",
       "      <th></th>\n",
       "      <th>age</th>\n",
       "      <th>height</th>\n",
       "      <th>weight</th>\n",
       "      <th>ap_hi</th>\n",
       "      <th>ap_lo</th>\n",
       "      <th>smoke</th>\n",
       "      <th>alco</th>\n",
       "      <th>active</th>\n",
       "      <th>cardio</th>\n",
       "    </tr>\n",
       "  </thead>\n",
       "  <tbody>\n",
       "    <tr>\n",
       "      <th>count</th>\n",
       "      <td>69976.000000</td>\n",
       "      <td>69976.000000</td>\n",
       "      <td>69976.000000</td>\n",
       "      <td>69976.000000</td>\n",
       "      <td>69976.000000</td>\n",
       "      <td>69976.000000</td>\n",
       "      <td>69976.000000</td>\n",
       "      <td>69976.000000</td>\n",
       "      <td>69976.000000</td>\n",
       "    </tr>\n",
       "    <tr>\n",
       "      <th>mean</th>\n",
       "      <td>53.339589</td>\n",
       "      <td>164.422216</td>\n",
       "      <td>74.211548</td>\n",
       "      <td>126.682162</td>\n",
       "      <td>81.296130</td>\n",
       "      <td>0.088159</td>\n",
       "      <td>0.053790</td>\n",
       "      <td>0.803718</td>\n",
       "      <td>0.499771</td>\n",
       "    </tr>\n",
       "    <tr>\n",
       "      <th>std</th>\n",
       "      <td>6.759930</td>\n",
       "      <td>7.905990</td>\n",
       "      <td>14.380217</td>\n",
       "      <td>16.536783</td>\n",
       "      <td>9.373928</td>\n",
       "      <td>0.283528</td>\n",
       "      <td>0.225604</td>\n",
       "      <td>0.397187</td>\n",
       "      <td>0.500004</td>\n",
       "    </tr>\n",
       "    <tr>\n",
       "      <th>min</th>\n",
       "      <td>29.583562</td>\n",
       "      <td>111.000000</td>\n",
       "      <td>29.000000</td>\n",
       "      <td>60.000000</td>\n",
       "      <td>30.000000</td>\n",
       "      <td>0.000000</td>\n",
       "      <td>0.000000</td>\n",
       "      <td>0.000000</td>\n",
       "      <td>0.000000</td>\n",
       "    </tr>\n",
       "    <tr>\n",
       "      <th>25%</th>\n",
       "      <td>48.394521</td>\n",
       "      <td>159.000000</td>\n",
       "      <td>65.000000</td>\n",
       "      <td>120.000000</td>\n",
       "      <td>80.000000</td>\n",
       "      <td>0.000000</td>\n",
       "      <td>0.000000</td>\n",
       "      <td>1.000000</td>\n",
       "      <td>0.000000</td>\n",
       "    </tr>\n",
       "    <tr>\n",
       "      <th>50%</th>\n",
       "      <td>53.980822</td>\n",
       "      <td>165.000000</td>\n",
       "      <td>72.000000</td>\n",
       "      <td>120.000000</td>\n",
       "      <td>80.000000</td>\n",
       "      <td>0.000000</td>\n",
       "      <td>0.000000</td>\n",
       "      <td>1.000000</td>\n",
       "      <td>0.000000</td>\n",
       "    </tr>\n",
       "    <tr>\n",
       "      <th>75%</th>\n",
       "      <td>58.430137</td>\n",
       "      <td>170.000000</td>\n",
       "      <td>82.000000</td>\n",
       "      <td>140.000000</td>\n",
       "      <td>90.000000</td>\n",
       "      <td>0.000000</td>\n",
       "      <td>0.000000</td>\n",
       "      <td>1.000000</td>\n",
       "      <td>1.000000</td>\n",
       "    </tr>\n",
       "    <tr>\n",
       "      <th>max</th>\n",
       "      <td>64.967123</td>\n",
       "      <td>207.000000</td>\n",
       "      <td>200.000000</td>\n",
       "      <td>240.000000</td>\n",
       "      <td>180.000000</td>\n",
       "      <td>1.000000</td>\n",
       "      <td>1.000000</td>\n",
       "      <td>1.000000</td>\n",
       "      <td>1.000000</td>\n",
       "    </tr>\n",
       "  </tbody>\n",
       "</table>\n",
       "</div>"
      ],
      "text/plain": [
       "                age        height        weight         ap_hi         ap_lo  \\\n",
       "count  69976.000000  69976.000000  69976.000000  69976.000000  69976.000000   \n",
       "mean      53.339589    164.422216     74.211548    126.682162     81.296130   \n",
       "std        6.759930      7.905990     14.380217     16.536783      9.373928   \n",
       "min       29.583562    111.000000     29.000000     60.000000     30.000000   \n",
       "25%       48.394521    159.000000     65.000000    120.000000     80.000000   \n",
       "50%       53.980822    165.000000     72.000000    120.000000     80.000000   \n",
       "75%       58.430137    170.000000     82.000000    140.000000     90.000000   \n",
       "max       64.967123    207.000000    200.000000    240.000000    180.000000   \n",
       "\n",
       "              smoke          alco        active        cardio  \n",
       "count  69976.000000  69976.000000  69976.000000  69976.000000  \n",
       "mean       0.088159      0.053790      0.803718      0.499771  \n",
       "std        0.283528      0.225604      0.397187      0.500004  \n",
       "min        0.000000      0.000000      0.000000      0.000000  \n",
       "25%        0.000000      0.000000      1.000000      0.000000  \n",
       "50%        0.000000      0.000000      1.000000      0.000000  \n",
       "75%        0.000000      0.000000      1.000000      1.000000  \n",
       "max        1.000000      1.000000      1.000000      1.000000  "
      ]
     },
     "execution_count": 19,
     "metadata": {},
     "output_type": "execute_result"
    }
   ],
   "source": [
    "df_feature.describe()"
   ]
  },
  {
   "cell_type": "markdown",
   "metadata": {},
   "source": [
    "Lets calculate Body-Mass-Index (BMI) which is a measurement of a person's leanness or corpulence based on their height and weight. The World Health Organization's (WHO) recommended body weight based on BMI values for adults are:\n",
    "\n",
    "|Category|BMI range - kg/m2|\n",
    "|-|-|\n",
    "|Severe Thinness|\t< 16|\n",
    "|Moderate Thinness|\t16 - 17|\n",
    "|Mild Thinness|\t17 - 18.5|\n",
    "|Normal|\t18.5 - 25|\n",
    "|Overweight|\t25 - 30|\n",
    "|Obese Class I|\t30 - 35|\n",
    "|Obese Class II|\t35 - 40|\n",
    "|Obese Class III|\t> 40|"
   ]
  },
  {
   "cell_type": "markdown",
   "metadata": {},
   "source": [
    "The calculation for BMI is as follows:\n",
    "\n",
    "**BMI** = (Weight in KG)/ ((Height in Meters)^2)\n",
    "\n",
    "We have wright in KG and height in centi meters. Lets calculate BMI. \n",
    "\n",
    "Note there is insignificant difference in BMI for male and female so we assign the same calculation to both. Since all data is for adults, no specific calculation of young adults or children is needed."
   ]
  },
  {
   "cell_type": "code",
   "execution_count": 20,
   "metadata": {},
   "outputs": [],
   "source": [
    "df_feature['bmi']= df.weight/(df.height/100)**2 #round((df.weight/(df.height/100)**2)*2)/2"
   ]
  },
  {
   "cell_type": "markdown",
   "metadata": {},
   "source": [
    "lets categorize BMI."
   ]
  },
  {
   "cell_type": "code",
   "execution_count": 21,
   "metadata": {},
   "outputs": [],
   "source": [
    "df_feature.loc[(df_feature.bmi < 16), 'bmi_cat'] = 'Severe Thinness'\n",
    "df_feature.loc[(df_feature.bmi < 18.5) & (df_feature.bmi >= 16), 'bmi_cat'] = 'Mild Thinness'\n",
    "df_feature.loc[(df_feature.bmi < 25)   & (df_feature.bmi >= 18.5), 'bmi_cat'] = 'Normal'\n",
    "df_feature.loc[(df_feature.bmi < 30)   & (df_feature.bmi >= 25), 'bmi_cat'] = 'Overweight'\n",
    "df_feature.loc[(df_feature.bmi >= 30), 'bmi_cat'] = 'Obese'\n",
    "\n",
    "df_feature.bmi_cat = df_feature.bmi_cat.astype('category')"
   ]
  },
  {
   "cell_type": "code",
   "execution_count": 22,
   "metadata": {},
   "outputs": [
    {
     "name": "stdout",
     "output_type": "stream",
     "text": [
      "{'Mild Thinness': 0, 'Normal': 1, 'Obese': 2, 'Overweight': 3, 'Severe Thinness': 4}\n"
     ]
    },
    {
     "data": {
      "text/html": [
       "<div>\n",
       "<style scoped>\n",
       "    .dataframe tbody tr th:only-of-type {\n",
       "        vertical-align: middle;\n",
       "    }\n",
       "\n",
       "    .dataframe tbody tr th {\n",
       "        vertical-align: top;\n",
       "    }\n",
       "\n",
       "    .dataframe thead th {\n",
       "        text-align: right;\n",
       "    }\n",
       "</style>\n",
       "<table border=\"1\" class=\"dataframe\">\n",
       "  <thead>\n",
       "    <tr style=\"text-align: right;\">\n",
       "      <th></th>\n",
       "      <th>age</th>\n",
       "      <th>gender</th>\n",
       "      <th>height</th>\n",
       "      <th>weight</th>\n",
       "      <th>ap_hi</th>\n",
       "      <th>ap_lo</th>\n",
       "      <th>cholesterol</th>\n",
       "      <th>gluc</th>\n",
       "      <th>smoke</th>\n",
       "      <th>alco</th>\n",
       "      <th>active</th>\n",
       "      <th>cardio</th>\n",
       "      <th>bmi</th>\n",
       "      <th>bmi_cat</th>\n",
       "    </tr>\n",
       "  </thead>\n",
       "  <tbody>\n",
       "    <tr>\n",
       "      <th>0</th>\n",
       "      <td>50.391781</td>\n",
       "      <td>M</td>\n",
       "      <td>168</td>\n",
       "      <td>62.0</td>\n",
       "      <td>110</td>\n",
       "      <td>80</td>\n",
       "      <td>Normal</td>\n",
       "      <td>Normal</td>\n",
       "      <td>0</td>\n",
       "      <td>0</td>\n",
       "      <td>1</td>\n",
       "      <td>0</td>\n",
       "      <td>21.967120</td>\n",
       "      <td>Normal</td>\n",
       "    </tr>\n",
       "    <tr>\n",
       "      <th>1</th>\n",
       "      <td>55.419178</td>\n",
       "      <td>F</td>\n",
       "      <td>156</td>\n",
       "      <td>85.0</td>\n",
       "      <td>140</td>\n",
       "      <td>90</td>\n",
       "      <td>High</td>\n",
       "      <td>Normal</td>\n",
       "      <td>0</td>\n",
       "      <td>0</td>\n",
       "      <td>1</td>\n",
       "      <td>1</td>\n",
       "      <td>34.927679</td>\n",
       "      <td>Obese</td>\n",
       "    </tr>\n",
       "  </tbody>\n",
       "</table>\n",
       "</div>"
      ],
      "text/plain": [
       "         age gender  height  weight  ap_hi  ap_lo cholesterol    gluc  smoke  \\\n",
       "0  50.391781      M     168    62.0    110     80      Normal  Normal      0   \n",
       "1  55.419178      F     156    85.0    140     90        High  Normal      0   \n",
       "\n",
       "   alco  active  cardio        bmi bmi_cat  \n",
       "0     0       1       0  21.967120  Normal  \n",
       "1     0       1       1  34.927679   Obese  "
      ]
     },
     "execution_count": 22,
     "metadata": {},
     "output_type": "execute_result"
    }
   ],
   "source": [
    "bmi_map = dict([ (v,k) for k,v in  enumerate(df_feature.bmi_cat.cat.categories)])\n",
    "print(bmi_map)\n",
    "\n",
    "df_feature.head(2)"
   ]
  },
  {
   "cell_type": "code",
   "execution_count": 23,
   "metadata": {},
   "outputs": [
    {
     "data": {
      "image/png": "[encoded data removed]",
      "text/plain": [
       "<Figure size 432x288 with 1 Axes>"
      ]
     },
     "metadata": {
      "needs_background": "light"
     },
     "output_type": "display_data"
    }
   ],
   "source": [
    "plt.scatter(df_feature['bmi'][(df_feature.gender == 'F')], df_feature['age'][(df_feature.gender == 'F')], marker='D', color='orange', label='Female')\n",
    "plt.scatter(df_feature['bmi'][(df_feature.gender == 'M')], df_feature['age'][(df_feature.gender == 'M')], marker='o', color='blue', label='Male')\n",
    "plt.xlabel('BMI')\n",
    "plt.ylabel('Age')\n",
    "plt.legend()\n",
    "plt.show()"
   ]
  },
  {
   "cell_type": "markdown",
   "metadata": {},
   "source": [
    "Looks like there are outliers in BMI. Let remove them by replacing them with mean of that gender"
   ]
  },
  {
   "cell_type": "code",
   "execution_count": 24,
   "metadata": {},
   "outputs": [
    {
     "data": {
      "image/png": "[encoded data removed]",
      "text/plain": [
       "<Figure size 432x288 with 1 Axes>"
      ]
     },
     "metadata": {
      "needs_background": "light"
     },
     "output_type": "display_data"
    }
   ],
   "source": [
    "f_bmi = round(df_feature[((df_feature['bmi']<= 65) & (df_feature['bmi']>= 10) & (df_feature['gender']== 'F'))].bmi.mean())\n",
    "m_bmi = round(df_feature[((df_feature['bmi']<= 65) & (df_feature['bmi']>= 10) & (df_feature['gender']== 'M'))].bmi.mean())\n",
    "\n",
    "df_feature.loc[((df_feature['bmi']>  65) | (df_feature['bmi']< 10)) & (df_feature['gender']== 'F'),'bmi']= f_bmi\n",
    "df_feature.loc[((df_feature['bmi']>  65) | (df_feature['bmi']< 10)) & (df_feature['gender']== 'M'),'bmi']= m_bmi\n",
    "               \n",
    "plt.scatter(df_feature['bmi'][(df_feature.gender == 'F')], df_feature['age'][(df_feature.gender == 'F')], marker='D', color='orange', label='Female')\n",
    "plt.scatter(df_feature['bmi'][(df_feature.gender == 'M')], df_feature['age'][(df_feature.gender == 'M')], marker='o', color='blue', label='Male')\n",
    "plt.xlabel('BMI')\n",
    "plt.ylabel('Age')\n",
    "plt.legend()\n",
    "plt.show()"
   ]
  },
  {
   "cell_type": "markdown",
   "metadata": {},
   "source": [
    "Also get rid of outliers in age"
   ]
  },
  {
   "cell_type": "code",
   "execution_count": 25,
   "metadata": {},
   "outputs": [],
   "source": [
    "df_feature = df_feature[df_feature['age']>=35]"
   ]
  },
  {
   "cell_type": "markdown",
   "metadata": {},
   "source": [
    "Lets look at the distributions again"
   ]
  },
  {
   "cell_type": "code",
   "execution_count": 26,
   "metadata": {},
   "outputs": [
    {
     "data": {
      "text/html": [
       "<div>\n",
       "<style scoped>\n",
       "    .dataframe tbody tr th:only-of-type {\n",
       "        vertical-align: middle;\n",
       "    }\n",
       "\n",
       "    .dataframe tbody tr th {\n",
       "        vertical-align: top;\n",
       "    }\n",
       "\n",
       "    .dataframe thead th {\n",
       "        text-align: right;\n",
       "    }\n",
       "</style>\n",
       "<table border=\"1\" class=\"dataframe\">\n",
       "  <thead>\n",
       "    <tr style=\"text-align: right;\">\n",
       "      <th></th>\n",
       "      <th>age</th>\n",
       "      <th>height</th>\n",
       "      <th>weight</th>\n",
       "      <th>ap_hi</th>\n",
       "      <th>ap_lo</th>\n",
       "      <th>smoke</th>\n",
       "      <th>alco</th>\n",
       "      <th>active</th>\n",
       "      <th>cardio</th>\n",
       "      <th>bmi</th>\n",
       "    </tr>\n",
       "  </thead>\n",
       "  <tbody>\n",
       "    <tr>\n",
       "      <th>count</th>\n",
       "      <td>69972.000000</td>\n",
       "      <td>69972.000000</td>\n",
       "      <td>69972.000000</td>\n",
       "      <td>69972.000000</td>\n",
       "      <td>69972.000000</td>\n",
       "      <td>69972.000000</td>\n",
       "      <td>69972.000000</td>\n",
       "      <td>69972.000000</td>\n",
       "      <td>69972.000000</td>\n",
       "      <td>69972.000000</td>\n",
       "    </tr>\n",
       "    <tr>\n",
       "      <th>mean</th>\n",
       "      <td>53.340935</td>\n",
       "      <td>164.422055</td>\n",
       "      <td>74.211946</td>\n",
       "      <td>126.682973</td>\n",
       "      <td>81.296633</td>\n",
       "      <td>0.088164</td>\n",
       "      <td>0.053793</td>\n",
       "      <td>0.803707</td>\n",
       "      <td>0.499800</td>\n",
       "      <td>27.490107</td>\n",
       "    </tr>\n",
       "    <tr>\n",
       "      <th>std</th>\n",
       "      <td>6.757779</td>\n",
       "      <td>7.905969</td>\n",
       "      <td>14.380126</td>\n",
       "      <td>16.536789</td>\n",
       "      <td>9.373750</td>\n",
       "      <td>0.283535</td>\n",
       "      <td>0.225610</td>\n",
       "      <td>0.397195</td>\n",
       "      <td>0.500004</td>\n",
       "      <td>5.257588</td>\n",
       "    </tr>\n",
       "    <tr>\n",
       "      <th>min</th>\n",
       "      <td>39.109589</td>\n",
       "      <td>111.000000</td>\n",
       "      <td>29.000000</td>\n",
       "      <td>60.000000</td>\n",
       "      <td>30.000000</td>\n",
       "      <td>0.000000</td>\n",
       "      <td>0.000000</td>\n",
       "      <td>0.000000</td>\n",
       "      <td>0.000000</td>\n",
       "      <td>10.726644</td>\n",
       "    </tr>\n",
       "    <tr>\n",
       "      <th>25%</th>\n",
       "      <td>48.397260</td>\n",
       "      <td>159.000000</td>\n",
       "      <td>65.000000</td>\n",
       "      <td>120.000000</td>\n",
       "      <td>80.000000</td>\n",
       "      <td>0.000000</td>\n",
       "      <td>0.000000</td>\n",
       "      <td>1.000000</td>\n",
       "      <td>0.000000</td>\n",
       "      <td>23.875115</td>\n",
       "    </tr>\n",
       "    <tr>\n",
       "      <th>50%</th>\n",
       "      <td>53.980822</td>\n",
       "      <td>165.000000</td>\n",
       "      <td>72.000000</td>\n",
       "      <td>120.000000</td>\n",
       "      <td>80.000000</td>\n",
       "      <td>0.000000</td>\n",
       "      <td>0.000000</td>\n",
       "      <td>1.000000</td>\n",
       "      <td>0.000000</td>\n",
       "      <td>26.395803</td>\n",
       "    </tr>\n",
       "    <tr>\n",
       "      <th>75%</th>\n",
       "      <td>58.430137</td>\n",
       "      <td>170.000000</td>\n",
       "      <td>82.000000</td>\n",
       "      <td>140.000000</td>\n",
       "      <td>90.000000</td>\n",
       "      <td>0.000000</td>\n",
       "      <td>0.000000</td>\n",
       "      <td>1.000000</td>\n",
       "      <td>1.000000</td>\n",
       "      <td>30.178450</td>\n",
       "    </tr>\n",
       "    <tr>\n",
       "      <th>max</th>\n",
       "      <td>64.967123</td>\n",
       "      <td>207.000000</td>\n",
       "      <td>200.000000</td>\n",
       "      <td>240.000000</td>\n",
       "      <td>180.000000</td>\n",
       "      <td>1.000000</td>\n",
       "      <td>1.000000</td>\n",
       "      <td>1.000000</td>\n",
       "      <td>1.000000</td>\n",
       "      <td>64.516129</td>\n",
       "    </tr>\n",
       "  </tbody>\n",
       "</table>\n",
       "</div>"
      ],
      "text/plain": [
       "                age        height        weight         ap_hi         ap_lo  \\\n",
       "count  69972.000000  69972.000000  69972.000000  69972.000000  69972.000000   \n",
       "mean      53.340935    164.422055     74.211946    126.682973     81.296633   \n",
       "std        6.757779      7.905969     14.380126     16.536789      9.373750   \n",
       "min       39.109589    111.000000     29.000000     60.000000     30.000000   \n",
       "25%       48.397260    159.000000     65.000000    120.000000     80.000000   \n",
       "50%       53.980822    165.000000     72.000000    120.000000     80.000000   \n",
       "75%       58.430137    170.000000     82.000000    140.000000     90.000000   \n",
       "max       64.967123    207.000000    200.000000    240.000000    180.000000   \n",
       "\n",
       "              smoke          alco        active        cardio           bmi  \n",
       "count  69972.000000  69972.000000  69972.000000  69972.000000  69972.000000  \n",
       "mean       0.088164      0.053793      0.803707      0.499800     27.490107  \n",
       "std        0.283535      0.225610      0.397195      0.500004      5.257588  \n",
       "min        0.000000      0.000000      0.000000      0.000000     10.726644  \n",
       "25%        0.000000      0.000000      1.000000      0.000000     23.875115  \n",
       "50%        0.000000      0.000000      1.000000      0.000000     26.395803  \n",
       "75%        0.000000      0.000000      1.000000      1.000000     30.178450  \n",
       "max        1.000000      1.000000      1.000000      1.000000     64.516129  "
      ]
     },
     "execution_count": 26,
     "metadata": {},
     "output_type": "execute_result"
    }
   ],
   "source": [
    "df_feature.describe()"
   ]
  },
  {
   "cell_type": "code",
   "execution_count": 27,
   "metadata": {},
   "outputs": [
    {
     "data": {
      "text/html": [
       "<div>\n",
       "<style scoped>\n",
       "    .dataframe tbody tr th:only-of-type {\n",
       "        vertical-align: middle;\n",
       "    }\n",
       "\n",
       "    .dataframe tbody tr th {\n",
       "        vertical-align: top;\n",
       "    }\n",
       "\n",
       "    .dataframe thead th {\n",
       "        text-align: right;\n",
       "    }\n",
       "</style>\n",
       "<table border=\"1\" class=\"dataframe\">\n",
       "  <thead>\n",
       "    <tr style=\"text-align: right;\">\n",
       "      <th></th>\n",
       "      <th>age</th>\n",
       "      <th>gender</th>\n",
       "      <th>height</th>\n",
       "      <th>weight</th>\n",
       "      <th>ap_hi</th>\n",
       "      <th>ap_lo</th>\n",
       "      <th>cholesterol</th>\n",
       "      <th>gluc</th>\n",
       "      <th>smoke</th>\n",
       "      <th>alco</th>\n",
       "      <th>active</th>\n",
       "      <th>cardio</th>\n",
       "      <th>bmi</th>\n",
       "      <th>bmi_cat</th>\n",
       "    </tr>\n",
       "  </thead>\n",
       "  <tbody>\n",
       "    <tr>\n",
       "      <th>0</th>\n",
       "      <td>50.391781</td>\n",
       "      <td>M</td>\n",
       "      <td>168</td>\n",
       "      <td>62.0</td>\n",
       "      <td>110</td>\n",
       "      <td>80</td>\n",
       "      <td>Normal</td>\n",
       "      <td>Normal</td>\n",
       "      <td>0</td>\n",
       "      <td>0</td>\n",
       "      <td>1</td>\n",
       "      <td>0</td>\n",
       "      <td>21.967120</td>\n",
       "      <td>Normal</td>\n",
       "    </tr>\n",
       "    <tr>\n",
       "      <th>1</th>\n",
       "      <td>55.419178</td>\n",
       "      <td>F</td>\n",
       "      <td>156</td>\n",
       "      <td>85.0</td>\n",
       "      <td>140</td>\n",
       "      <td>90</td>\n",
       "      <td>High</td>\n",
       "      <td>Normal</td>\n",
       "      <td>0</td>\n",
       "      <td>0</td>\n",
       "      <td>1</td>\n",
       "      <td>1</td>\n",
       "      <td>34.927679</td>\n",
       "      <td>Obese</td>\n",
       "    </tr>\n",
       "    <tr>\n",
       "      <th>2</th>\n",
       "      <td>51.663014</td>\n",
       "      <td>F</td>\n",
       "      <td>165</td>\n",
       "      <td>64.0</td>\n",
       "      <td>130</td>\n",
       "      <td>70</td>\n",
       "      <td>High</td>\n",
       "      <td>Normal</td>\n",
       "      <td>0</td>\n",
       "      <td>0</td>\n",
       "      <td>0</td>\n",
       "      <td>1</td>\n",
       "      <td>23.507805</td>\n",
       "      <td>Normal</td>\n",
       "    </tr>\n",
       "    <tr>\n",
       "      <th>3</th>\n",
       "      <td>48.282192</td>\n",
       "      <td>M</td>\n",
       "      <td>169</td>\n",
       "      <td>82.0</td>\n",
       "      <td>150</td>\n",
       "      <td>100</td>\n",
       "      <td>Normal</td>\n",
       "      <td>Normal</td>\n",
       "      <td>0</td>\n",
       "      <td>0</td>\n",
       "      <td>1</td>\n",
       "      <td>1</td>\n",
       "      <td>28.710479</td>\n",
       "      <td>Overweight</td>\n",
       "    </tr>\n",
       "    <tr>\n",
       "      <th>4</th>\n",
       "      <td>47.873973</td>\n",
       "      <td>F</td>\n",
       "      <td>156</td>\n",
       "      <td>56.0</td>\n",
       "      <td>100</td>\n",
       "      <td>60</td>\n",
       "      <td>Normal</td>\n",
       "      <td>Normal</td>\n",
       "      <td>0</td>\n",
       "      <td>0</td>\n",
       "      <td>0</td>\n",
       "      <td>0</td>\n",
       "      <td>23.011177</td>\n",
       "      <td>Normal</td>\n",
       "    </tr>\n",
       "  </tbody>\n",
       "</table>\n",
       "</div>"
      ],
      "text/plain": [
       "         age gender  height  weight  ap_hi  ap_lo cholesterol    gluc  smoke  \\\n",
       "0  50.391781      M     168    62.0    110     80      Normal  Normal      0   \n",
       "1  55.419178      F     156    85.0    140     90        High  Normal      0   \n",
       "2  51.663014      F     165    64.0    130     70        High  Normal      0   \n",
       "3  48.282192      M     169    82.0    150    100      Normal  Normal      0   \n",
       "4  47.873973      F     156    56.0    100     60      Normal  Normal      0   \n",
       "\n",
       "   alco  active  cardio        bmi     bmi_cat  \n",
       "0     0       1       0  21.967120      Normal  \n",
       "1     0       1       1  34.927679       Obese  \n",
       "2     0       0       1  23.507805      Normal  \n",
       "3     0       1       1  28.710479  Overweight  \n",
       "4     0       0       0  23.011177      Normal  "
      ]
     },
     "execution_count": 27,
     "metadata": {},
     "output_type": "execute_result"
    }
   ],
   "source": [
    "df_feature.head(5)"
   ]
  },
  {
   "cell_type": "markdown",
   "metadata": {},
   "source": [
    "## Explore & Visualize data"
   ]
  },
  {
   "cell_type": "markdown",
   "metadata": {},
   "source": [
    "Lets first look at the target class imbalance."
   ]
  },
  {
   "cell_type": "code",
   "execution_count": 28,
   "metadata": {},
   "outputs": [
    {
     "data": {
      "image/png": "[encoded data removed]",
      "text/plain": [
       "<Figure size 432x288 with 1 Axes>"
      ]
     },
     "metadata": {},
     "output_type": "display_data"
    }
   ],
   "source": [
    "labels = df_feature.cardio.unique()\n",
    "plt.pie([(df_feature.cardio == labels[0]).sum(),(df_feature.cardio == labels[1]).sum()], labels = ['Healthy','CVD'], startangle = 90)\n",
    "plt.title(\"CVD distribution\")\n",
    "plt.show()"
   ]
  },
  {
   "cell_type": "markdown",
   "metadata": {},
   "source": [
    "Looks like target class is relatively balanced."
   ]
  },
  {
   "cell_type": "markdown",
   "metadata": {},
   "source": [
    "Lets visualize the data gender wise. We would first take the numerical/binary data w.r.t gender.\n",
    "\n",
    "Lets first see the gender distribution in data."
   ]
  },
  {
   "cell_type": "code",
   "execution_count": 29,
   "metadata": {},
   "outputs": [
    {
     "data": {
      "image/png": "[encoded data removed]",
      "text/plain": [
       "<Figure size 432x288 with 1 Axes>"
      ]
     },
     "metadata": {},
     "output_type": "display_data"
    }
   ],
   "source": [
    "labels = df_feature.gender.unique()\n",
    "plt.pie([(df_feature.gender == labels[0]).sum(),(df_feature.gender == labels[1]).sum()], labels = labels, startangle = 90)\n",
    "plt.title(\"Gender distribution\")\n",
    "plt.show()"
   ]
  },
  {
   "cell_type": "markdown",
   "metadata": {},
   "source": [
    "Looks like we have around 50% more females in data than males\n",
    "\n",
    "Lets see distribution with respect to class."
   ]
  },
  {
   "cell_type": "code",
   "execution_count": 30,
   "metadata": {},
   "outputs": [
    {
     "data": {
      "text/plain": [
       "<AxesSubplot:xlabel='gender'>"
      ]
     },
     "execution_count": 30,
     "metadata": {},
     "output_type": "execute_result"
    },
    {
     "data": {
      "image/png": "[encoded data removed]",
      "text/plain": [
       "<Figure size 432x288 with 1 Axes>"
      ]
     },
     "metadata": {
      "needs_background": "light"
     },
     "output_type": "display_data"
    }
   ],
   "source": [
    "pd.crosstab(df_feature.gender,df_feature.cardio).plot(kind='bar')"
   ]
  },
  {
   "cell_type": "markdown",
   "metadata": {},
   "source": [
    "Lets look at class distribution of cholestrol"
   ]
  },
  {
   "cell_type": "code",
   "execution_count": 31,
   "metadata": {},
   "outputs": [
    {
     "data": {
      "text/plain": [
       "<AxesSubplot:xlabel='cholesterol'>"
      ]
     },
     "execution_count": 31,
     "metadata": {},
     "output_type": "execute_result"
    },
    {
     "data": {
      "image/png": "[encoded data removed]",
      "text/plain": [
       "<Figure size 432x288 with 1 Axes>"
      ]
     },
     "metadata": {
      "needs_background": "light"
     },
     "output_type": "display_data"
    }
   ],
   "source": [
    "pd.crosstab(df_feature.cholesterol,df_feature.cardio).plot(kind='bar')"
   ]
  },
  {
   "cell_type": "code",
   "execution_count": 32,
   "metadata": {},
   "outputs": [
    {
     "data": {
      "text/plain": [
       "<AxesSubplot:xlabel='gluc'>"
      ]
     },
     "execution_count": 32,
     "metadata": {},
     "output_type": "execute_result"
    },
    {
     "data": {
      "image/png": "[encoded data removed]",
      "text/plain": [
       "<Figure size 432x288 with 1 Axes>"
      ]
     },
     "metadata": {
      "needs_background": "light"
     },
     "output_type": "display_data"
    }
   ],
   "source": [
    "pd.crosstab(df_feature.gluc,df_feature.cardio).plot(kind='bar')"
   ]
  },
  {
   "cell_type": "markdown",
   "metadata": {},
   "source": [
    "#### Scatter Matrix\n",
    "\n",
    "In multivariate statistics and probability theory, the scatter matrix is a statistic that is used to make estimates of the covariance matrix, for instance of the multivariate normal distribution. Lets draw a scatter matrix to see corelations among the numeric features."
   ]
  },
  {
   "cell_type": "code",
   "execution_count": 33,
   "metadata": {},
   "outputs": [
    {
     "data": {
      "image/png": "[encoded data removed]",
      "text/plain": [
       "<Figure size 720x720 with 20 Axes>"
      ]
     },
     "metadata": {
      "needs_background": "light"
     },
     "output_type": "display_data"
    }
   ],
   "source": [
    "# Basic correlogram demographics\n",
    "sns.pairplot(df_feature[['age','bmi','ap_hi','ap_lo']])\n",
    "plt.show()"
   ]
  },
  {
   "cell_type": "markdown",
   "metadata": {},
   "source": [
    "Looks like some corelation may exist. Lets draw a corelation values from the scatter matrix."
   ]
  },
  {
   "cell_type": "code",
   "execution_count": 34,
   "metadata": {},
   "outputs": [
    {
     "data": {
      "text/html": [
       "<style  type=\"text/css\" >\n",
       "#T_99ab8_row0_col0,#T_99ab8_row1_col1,#T_99ab8_row2_col2,#T_99ab8_row3_col3,#T_99ab8_row4_col4,#T_99ab8_row5_col5,#T_99ab8_row6_col6,#T_99ab8_row7_col7,#T_99ab8_row8_col8,#T_99ab8_row9_col9,#T_99ab8_row10_col10,#T_99ab8_row11_col11,#T_99ab8_row12_col12{\n",
       "            background-color:  #b40426;\n",
       "            color:  #f1f1f1;\n",
       "        }#T_99ab8_row0_col1,#T_99ab8_row0_col2,#T_99ab8_row0_col3,#T_99ab8_row0_col4,#T_99ab8_row0_col5,#T_99ab8_row0_col6,#T_99ab8_row0_col7,#T_99ab8_row0_col8,#T_99ab8_row0_col9,#T_99ab8_row0_col10,#T_99ab8_row0_col11,#T_99ab8_row0_col12,#T_99ab8_row1_col2,#T_99ab8_row1_col3,#T_99ab8_row1_col4,#T_99ab8_row1_col5,#T_99ab8_row1_col6,#T_99ab8_row1_col7,#T_99ab8_row1_col8,#T_99ab8_row1_col9,#T_99ab8_row1_col10,#T_99ab8_row1_col11,#T_99ab8_row1_col12,#T_99ab8_row2_col3,#T_99ab8_row2_col4,#T_99ab8_row2_col5,#T_99ab8_row2_col6,#T_99ab8_row2_col7,#T_99ab8_row2_col8,#T_99ab8_row2_col9,#T_99ab8_row2_col10,#T_99ab8_row2_col11,#T_99ab8_row2_col12,#T_99ab8_row3_col4,#T_99ab8_row3_col5,#T_99ab8_row3_col6,#T_99ab8_row3_col7,#T_99ab8_row3_col8,#T_99ab8_row3_col9,#T_99ab8_row3_col10,#T_99ab8_row3_col11,#T_99ab8_row3_col12,#T_99ab8_row4_col5,#T_99ab8_row4_col6,#T_99ab8_row4_col7,#T_99ab8_row4_col8,#T_99ab8_row4_col9,#T_99ab8_row4_col10,#T_99ab8_row4_col11,#T_99ab8_row4_col12,#T_99ab8_row5_col6,#T_99ab8_row5_col7,#T_99ab8_row5_col8,#T_99ab8_row5_col9,#T_99ab8_row5_col10,#T_99ab8_row5_col11,#T_99ab8_row5_col12,#T_99ab8_row6_col7,#T_99ab8_row6_col8,#T_99ab8_row6_col9,#T_99ab8_row6_col10,#T_99ab8_row6_col11,#T_99ab8_row6_col12,#T_99ab8_row7_col8,#T_99ab8_row7_col9,#T_99ab8_row7_col10,#T_99ab8_row7_col11,#T_99ab8_row7_col12,#T_99ab8_row8_col9,#T_99ab8_row8_col10,#T_99ab8_row8_col11,#T_99ab8_row8_col12,#T_99ab8_row9_col10,#T_99ab8_row9_col11,#T_99ab8_row9_col12,#T_99ab8_row10_col11,#T_99ab8_row10_col12,#T_99ab8_row11_col12{\n",
       "            background-color:  #000000;\n",
       "            color:  #f1f1f1;\n",
       "            background-color:  #f1f1f1;\n",
       "        }#T_99ab8_row1_col0,#T_99ab8_row2_col0,#T_99ab8_row5_col0,#T_99ab8_row5_col2,#T_99ab8_row5_col3,#T_99ab8_row6_col3,#T_99ab8_row7_col0,#T_99ab8_row8_col0,#T_99ab8_row9_col6,#T_99ab8_row10_col0,#T_99ab8_row10_col5,#T_99ab8_row11_col0,#T_99ab8_row11_col2,#T_99ab8_row11_col6,#T_99ab8_row12_col0{\n",
       "            background-color:  #dddcdc;\n",
       "            color:  #000000;\n",
       "        }#T_99ab8_row2_col1,#T_99ab8_row8_col2,#T_99ab8_row8_col3,#T_99ab8_row11_col4{\n",
       "            background-color:  #dadce0;\n",
       "            color:  #000000;\n",
       "        }#T_99ab8_row3_col0,#T_99ab8_row4_col0,#T_99ab8_row6_col0,#T_99ab8_row9_col0,#T_99ab8_row9_col5,#T_99ab8_row9_col8,#T_99ab8_row11_col3,#T_99ab8_row11_col5,#T_99ab8_row11_col8,#T_99ab8_row12_col10{\n",
       "            background-color:  #dcdddd;\n",
       "            color:  #000000;\n",
       "        }#T_99ab8_row3_col1{\n",
       "            background-color:  #d2dbe8;\n",
       "            color:  #000000;\n",
       "        }#T_99ab8_row3_col2{\n",
       "            background-color:  #f49a7b;\n",
       "            color:  #000000;\n",
       "        }#T_99ab8_row4_col1,#T_99ab8_row12_col5{\n",
       "            background-color:  #e3d9d3;\n",
       "            color:  #000000;\n",
       "        }#T_99ab8_row4_col2,#T_99ab8_row7_col1{\n",
       "            background-color:  #eed0c0;\n",
       "            color:  #000000;\n",
       "        }#T_99ab8_row4_col3{\n",
       "            background-color:  #f6bea4;\n",
       "            color:  #000000;\n",
       "        }#T_99ab8_row5_col1,#T_99ab8_row6_col1,#T_99ab8_row6_col5{\n",
       "            background-color:  #dfdbd9;\n",
       "            color:  #000000;\n",
       "        }#T_99ab8_row5_col4,#T_99ab8_row7_col5,#T_99ab8_row7_col6,#T_99ab8_row11_col9,#T_99ab8_row11_col10{\n",
       "            background-color:  #e0dbd8;\n",
       "            color:  #000000;\n",
       "        }#T_99ab8_row6_col2,#T_99ab8_row8_col5,#T_99ab8_row8_col6,#T_99ab8_row9_col7,#T_99ab8_row10_col6,#T_99ab8_row10_col8,#T_99ab8_row11_col7,#T_99ab8_row12_col2{\n",
       "            background-color:  #dedcdb;\n",
       "            color:  #000000;\n",
       "        }#T_99ab8_row6_col4{\n",
       "            background-color:  #e2dad5;\n",
       "            color:  #000000;\n",
       "        }#T_99ab8_row7_col2,#T_99ab8_row12_col11{\n",
       "            background-color:  #d8dce2;\n",
       "            color:  #000000;\n",
       "        }#T_99ab8_row7_col3,#T_99ab8_row9_col1{\n",
       "            background-color:  #d6dce4;\n",
       "            color:  #000000;\n",
       "        }#T_99ab8_row7_col4{\n",
       "            background-color:  #edd1c2;\n",
       "            color:  #000000;\n",
       "        }#T_99ab8_row8_col1,#T_99ab8_row10_col3{\n",
       "            background-color:  #e9d5cb;\n",
       "            color:  #000000;\n",
       "        }#T_99ab8_row8_col4{\n",
       "            background-color:  #ead5c9;\n",
       "            color:  #000000;\n",
       "        }#T_99ab8_row8_col7{\n",
       "            background-color:  #f6a385;\n",
       "            color:  #000000;\n",
       "        }#T_99ab8_row9_col2,#T_99ab8_row10_col9{\n",
       "            background-color:  #f7b79b;\n",
       "            color:  #000000;\n",
       "        }#T_99ab8_row9_col3{\n",
       "            background-color:  #f1ccb8;\n",
       "            color:  #000000;\n",
       "        }#T_99ab8_row9_col4,#T_99ab8_row10_col4,#T_99ab8_row12_col6{\n",
       "            background-color:  #e5d8d1;\n",
       "            color:  #000000;\n",
       "        }#T_99ab8_row10_col1{\n",
       "            background-color:  #d9dce1;\n",
       "            color:  #000000;\n",
       "        }#T_99ab8_row10_col2{\n",
       "            background-color:  #efcebd;\n",
       "            color:  #000000;\n",
       "        }#T_99ab8_row10_col7{\n",
       "            background-color:  #e1dad6;\n",
       "            color:  #000000;\n",
       "        }#T_99ab8_row11_col1,#T_99ab8_row12_col3,#T_99ab8_row12_col9{\n",
       "            background-color:  #dbdcde;\n",
       "            color:  #000000;\n",
       "        }#T_99ab8_row12_col1{\n",
       "            background-color:  #f4c6af;\n",
       "            color:  #000000;\n",
       "        }#T_99ab8_row12_col4{\n",
       "            background-color:  #f1cdba;\n",
       "            color:  #000000;\n",
       "        }#T_99ab8_row12_col7{\n",
       "            background-color:  #f3c8b2;\n",
       "            color:  #000000;\n",
       "        }#T_99ab8_row12_col8{\n",
       "            background-color:  #e8d6cc;\n",
       "            color:  #000000;\n",
       "        }</style><table id=\"T_99ab8_\" ><thead>    <tr>        <th class=\"blank level0\" ></th>        <th class=\"col_heading level0 col0\" >id</th>        <th class=\"col_heading level0 col1\" >age</th>        <th class=\"col_heading level0 col2\" >gender</th>        <th class=\"col_heading level0 col3\" >height</th>        <th class=\"col_heading level0 col4\" >weight</th>        <th class=\"col_heading level0 col5\" >ap_hi</th>        <th class=\"col_heading level0 col6\" >ap_lo</th>        <th class=\"col_heading level0 col7\" >cholesterol</th>        <th class=\"col_heading level0 col8\" >gluc</th>        <th class=\"col_heading level0 col9\" >smoke</th>        <th class=\"col_heading level0 col10\" >alco</th>        <th class=\"col_heading level0 col11\" >active</th>        <th class=\"col_heading level0 col12\" >cardio</th>    </tr></thead><tbody>\n",
       "                <tr>\n",
       "                        <th id=\"T_99ab8_level0_row0\" class=\"row_heading level0 row0\" >id</th>\n",
       "                        <td id=\"T_99ab8_row0_col0\" class=\"data row0 col0\" >1.000000</td>\n",
       "                        <td id=\"T_99ab8_row0_col1\" class=\"data row0 col1\" >nan</td>\n",
       "                        <td id=\"T_99ab8_row0_col2\" class=\"data row0 col2\" >nan</td>\n",
       "                        <td id=\"T_99ab8_row0_col3\" class=\"data row0 col3\" >nan</td>\n",
       "                        <td id=\"T_99ab8_row0_col4\" class=\"data row0 col4\" >nan</td>\n",
       "                        <td id=\"T_99ab8_row0_col5\" class=\"data row0 col5\" >nan</td>\n",
       "                        <td id=\"T_99ab8_row0_col6\" class=\"data row0 col6\" >nan</td>\n",
       "                        <td id=\"T_99ab8_row0_col7\" class=\"data row0 col7\" >nan</td>\n",
       "                        <td id=\"T_99ab8_row0_col8\" class=\"data row0 col8\" >nan</td>\n",
       "                        <td id=\"T_99ab8_row0_col9\" class=\"data row0 col9\" >nan</td>\n",
       "                        <td id=\"T_99ab8_row0_col10\" class=\"data row0 col10\" >nan</td>\n",
       "                        <td id=\"T_99ab8_row0_col11\" class=\"data row0 col11\" >nan</td>\n",
       "                        <td id=\"T_99ab8_row0_col12\" class=\"data row0 col12\" >nan</td>\n",
       "            </tr>\n",
       "            <tr>\n",
       "                        <th id=\"T_99ab8_level0_row1\" class=\"row_heading level0 row1\" >age</th>\n",
       "                        <td id=\"T_99ab8_row1_col0\" class=\"data row1 col0\" >0.003457</td>\n",
       "                        <td id=\"T_99ab8_row1_col1\" class=\"data row1 col1\" >1.000000</td>\n",
       "                        <td id=\"T_99ab8_row1_col2\" class=\"data row1 col2\" >nan</td>\n",
       "                        <td id=\"T_99ab8_row1_col3\" class=\"data row1 col3\" >nan</td>\n",
       "                        <td id=\"T_99ab8_row1_col4\" class=\"data row1 col4\" >nan</td>\n",
       "                        <td id=\"T_99ab8_row1_col5\" class=\"data row1 col5\" >nan</td>\n",
       "                        <td id=\"T_99ab8_row1_col6\" class=\"data row1 col6\" >nan</td>\n",
       "                        <td id=\"T_99ab8_row1_col7\" class=\"data row1 col7\" >nan</td>\n",
       "                        <td id=\"T_99ab8_row1_col8\" class=\"data row1 col8\" >nan</td>\n",
       "                        <td id=\"T_99ab8_row1_col9\" class=\"data row1 col9\" >nan</td>\n",
       "                        <td id=\"T_99ab8_row1_col10\" class=\"data row1 col10\" >nan</td>\n",
       "                        <td id=\"T_99ab8_row1_col11\" class=\"data row1 col11\" >nan</td>\n",
       "                        <td id=\"T_99ab8_row1_col12\" class=\"data row1 col12\" >nan</td>\n",
       "            </tr>\n",
       "            <tr>\n",
       "                        <th id=\"T_99ab8_level0_row2\" class=\"row_heading level0 row2\" >gender</th>\n",
       "                        <td id=\"T_99ab8_row2_col0\" class=\"data row2 col0\" >0.003502</td>\n",
       "                        <td id=\"T_99ab8_row2_col1\" class=\"data row2 col1\" >-0.022811</td>\n",
       "                        <td id=\"T_99ab8_row2_col2\" class=\"data row2 col2\" >1.000000</td>\n",
       "                        <td id=\"T_99ab8_row2_col3\" class=\"data row2 col3\" >nan</td>\n",
       "                        <td id=\"T_99ab8_row2_col4\" class=\"data row2 col4\" >nan</td>\n",
       "                        <td id=\"T_99ab8_row2_col5\" class=\"data row2 col5\" >nan</td>\n",
       "                        <td id=\"T_99ab8_row2_col6\" class=\"data row2 col6\" >nan</td>\n",
       "                        <td id=\"T_99ab8_row2_col7\" class=\"data row2 col7\" >nan</td>\n",
       "                        <td id=\"T_99ab8_row2_col8\" class=\"data row2 col8\" >nan</td>\n",
       "                        <td id=\"T_99ab8_row2_col9\" class=\"data row2 col9\" >nan</td>\n",
       "                        <td id=\"T_99ab8_row2_col10\" class=\"data row2 col10\" >nan</td>\n",
       "                        <td id=\"T_99ab8_row2_col11\" class=\"data row2 col11\" >nan</td>\n",
       "                        <td id=\"T_99ab8_row2_col12\" class=\"data row2 col12\" >nan</td>\n",
       "            </tr>\n",
       "            <tr>\n",
       "                        <th id=\"T_99ab8_level0_row3\" class=\"row_heading level0 row3\" >height</th>\n",
       "                        <td id=\"T_99ab8_row3_col0\" class=\"data row3 col0\" >-0.003038</td>\n",
       "                        <td id=\"T_99ab8_row3_col1\" class=\"data row3 col1\" >-0.081515</td>\n",
       "                        <td id=\"T_99ab8_row3_col2\" class=\"data row3 col2\" >0.499033</td>\n",
       "                        <td id=\"T_99ab8_row3_col3\" class=\"data row3 col3\" >1.000000</td>\n",
       "                        <td id=\"T_99ab8_row3_col4\" class=\"data row3 col4\" >nan</td>\n",
       "                        <td id=\"T_99ab8_row3_col5\" class=\"data row3 col5\" >nan</td>\n",
       "                        <td id=\"T_99ab8_row3_col6\" class=\"data row3 col6\" >nan</td>\n",
       "                        <td id=\"T_99ab8_row3_col7\" class=\"data row3 col7\" >nan</td>\n",
       "                        <td id=\"T_99ab8_row3_col8\" class=\"data row3 col8\" >nan</td>\n",
       "                        <td id=\"T_99ab8_row3_col9\" class=\"data row3 col9\" >nan</td>\n",
       "                        <td id=\"T_99ab8_row3_col10\" class=\"data row3 col10\" >nan</td>\n",
       "                        <td id=\"T_99ab8_row3_col11\" class=\"data row3 col11\" >nan</td>\n",
       "                        <td id=\"T_99ab8_row3_col12\" class=\"data row3 col12\" >nan</td>\n",
       "            </tr>\n",
       "            <tr>\n",
       "                        <th id=\"T_99ab8_level0_row4\" class=\"row_heading level0 row4\" >weight</th>\n",
       "                        <td id=\"T_99ab8_row4_col0\" class=\"data row4 col0\" >-0.001830</td>\n",
       "                        <td id=\"T_99ab8_row4_col1\" class=\"data row4 col1\" >0.053684</td>\n",
       "                        <td id=\"T_99ab8_row4_col2\" class=\"data row4 col2\" >0.155406</td>\n",
       "                        <td id=\"T_99ab8_row4_col3\" class=\"data row4 col3\" >0.290968</td>\n",
       "                        <td id=\"T_99ab8_row4_col4\" class=\"data row4 col4\" >1.000000</td>\n",
       "                        <td id=\"T_99ab8_row4_col5\" class=\"data row4 col5\" >nan</td>\n",
       "                        <td id=\"T_99ab8_row4_col6\" class=\"data row4 col6\" >nan</td>\n",
       "                        <td id=\"T_99ab8_row4_col7\" class=\"data row4 col7\" >nan</td>\n",
       "                        <td id=\"T_99ab8_row4_col8\" class=\"data row4 col8\" >nan</td>\n",
       "                        <td id=\"T_99ab8_row4_col9\" class=\"data row4 col9\" >nan</td>\n",
       "                        <td id=\"T_99ab8_row4_col10\" class=\"data row4 col10\" >nan</td>\n",
       "                        <td id=\"T_99ab8_row4_col11\" class=\"data row4 col11\" >nan</td>\n",
       "                        <td id=\"T_99ab8_row4_col12\" class=\"data row4 col12\" >nan</td>\n",
       "            </tr>\n",
       "            <tr>\n",
       "                        <th id=\"T_99ab8_level0_row5\" class=\"row_heading level0 row5\" >ap_hi</th>\n",
       "                        <td id=\"T_99ab8_row5_col0\" class=\"data row5 col0\" >0.003356</td>\n",
       "                        <td id=\"T_99ab8_row5_col1\" class=\"data row5 col1\" >0.020764</td>\n",
       "                        <td id=\"T_99ab8_row5_col2\" class=\"data row5 col2\" >0.006005</td>\n",
       "                        <td id=\"T_99ab8_row5_col3\" class=\"data row5 col3\" >0.005488</td>\n",
       "                        <td id=\"T_99ab8_row5_col4\" class=\"data row5 col4\" >0.030702</td>\n",
       "                        <td id=\"T_99ab8_row5_col5\" class=\"data row5 col5\" >1.000000</td>\n",
       "                        <td id=\"T_99ab8_row5_col6\" class=\"data row5 col6\" >nan</td>\n",
       "                        <td id=\"T_99ab8_row5_col7\" class=\"data row5 col7\" >nan</td>\n",
       "                        <td id=\"T_99ab8_row5_col8\" class=\"data row5 col8\" >nan</td>\n",
       "                        <td id=\"T_99ab8_row5_col9\" class=\"data row5 col9\" >nan</td>\n",
       "                        <td id=\"T_99ab8_row5_col10\" class=\"data row5 col10\" >nan</td>\n",
       "                        <td id=\"T_99ab8_row5_col11\" class=\"data row5 col11\" >nan</td>\n",
       "                        <td id=\"T_99ab8_row5_col12\" class=\"data row5 col12\" >nan</td>\n",
       "            </tr>\n",
       "            <tr>\n",
       "                        <th id=\"T_99ab8_level0_row6\" class=\"row_heading level0 row6\" >ap_lo</th>\n",
       "                        <td id=\"T_99ab8_row6_col0\" class=\"data row6 col0\" >-0.002529</td>\n",
       "                        <td id=\"T_99ab8_row6_col1\" class=\"data row6 col1\" >0.017647</td>\n",
       "                        <td id=\"T_99ab8_row6_col2\" class=\"data row6 col2\" >0.015254</td>\n",
       "                        <td id=\"T_99ab8_row6_col3\" class=\"data row6 col3\" >0.006150</td>\n",
       "                        <td id=\"T_99ab8_row6_col4\" class=\"data row6 col4\" >0.043710</td>\n",
       "                        <td id=\"T_99ab8_row6_col5\" class=\"data row6 col5\" >0.016086</td>\n",
       "                        <td id=\"T_99ab8_row6_col6\" class=\"data row6 col6\" >1.000000</td>\n",
       "                        <td id=\"T_99ab8_row6_col7\" class=\"data row6 col7\" >nan</td>\n",
       "                        <td id=\"T_99ab8_row6_col8\" class=\"data row6 col8\" >nan</td>\n",
       "                        <td id=\"T_99ab8_row6_col9\" class=\"data row6 col9\" >nan</td>\n",
       "                        <td id=\"T_99ab8_row6_col10\" class=\"data row6 col10\" >nan</td>\n",
       "                        <td id=\"T_99ab8_row6_col11\" class=\"data row6 col11\" >nan</td>\n",
       "                        <td id=\"T_99ab8_row6_col12\" class=\"data row6 col12\" >nan</td>\n",
       "            </tr>\n",
       "            <tr>\n",
       "                        <th id=\"T_99ab8_level0_row7\" class=\"row_heading level0 row7\" >cholesterol</th>\n",
       "                        <td id=\"T_99ab8_row7_col0\" class=\"data row7 col0\" >0.006106</td>\n",
       "                        <td id=\"T_99ab8_row7_col1\" class=\"data row7 col1\" >0.154424</td>\n",
       "                        <td id=\"T_99ab8_row7_col2\" class=\"data row7 col2\" >-0.035821</td>\n",
       "                        <td id=\"T_99ab8_row7_col3\" class=\"data row7 col3\" >-0.050226</td>\n",
       "                        <td id=\"T_99ab8_row7_col4\" class=\"data row7 col4\" >0.141768</td>\n",
       "                        <td id=\"T_99ab8_row7_col5\" class=\"data row7 col5\" >0.023778</td>\n",
       "                        <td id=\"T_99ab8_row7_col6\" class=\"data row7 col6\" >0.024019</td>\n",
       "                        <td id=\"T_99ab8_row7_col7\" class=\"data row7 col7\" >1.000000</td>\n",
       "                        <td id=\"T_99ab8_row7_col8\" class=\"data row7 col8\" >nan</td>\n",
       "                        <td id=\"T_99ab8_row7_col9\" class=\"data row7 col9\" >nan</td>\n",
       "                        <td id=\"T_99ab8_row7_col10\" class=\"data row7 col10\" >nan</td>\n",
       "                        <td id=\"T_99ab8_row7_col11\" class=\"data row7 col11\" >nan</td>\n",
       "                        <td id=\"T_99ab8_row7_col12\" class=\"data row7 col12\" >nan</td>\n",
       "            </tr>\n",
       "            <tr>\n",
       "                        <th id=\"T_99ab8_level0_row8\" class=\"row_heading level0 row8\" >gluc</th>\n",
       "                        <td id=\"T_99ab8_row8_col0\" class=\"data row8 col0\" >0.002467</td>\n",
       "                        <td id=\"T_99ab8_row8_col1\" class=\"data row8 col1\" >0.098703</td>\n",
       "                        <td id=\"T_99ab8_row8_col2\" class=\"data row8 col2\" >-0.020491</td>\n",
       "                        <td id=\"T_99ab8_row8_col3\" class=\"data row8 col3\" >-0.018595</td>\n",
       "                        <td id=\"T_99ab8_row8_col4\" class=\"data row8 col4\" >0.106857</td>\n",
       "                        <td id=\"T_99ab8_row8_col5\" class=\"data row8 col5\" >0.011841</td>\n",
       "                        <td id=\"T_99ab8_row8_col6\" class=\"data row8 col6\" >0.010806</td>\n",
       "                        <td id=\"T_99ab8_row8_col7\" class=\"data row8 col7\" >0.451578</td>\n",
       "                        <td id=\"T_99ab8_row8_col8\" class=\"data row8 col8\" >1.000000</td>\n",
       "                        <td id=\"T_99ab8_row8_col9\" class=\"data row8 col9\" >nan</td>\n",
       "                        <td id=\"T_99ab8_row8_col10\" class=\"data row8 col10\" >nan</td>\n",
       "                        <td id=\"T_99ab8_row8_col11\" class=\"data row8 col11\" >nan</td>\n",
       "                        <td id=\"T_99ab8_row8_col12\" class=\"data row8 col12\" >nan</td>\n",
       "            </tr>\n",
       "            <tr>\n",
       "                        <th id=\"T_99ab8_level0_row9\" class=\"row_heading level0 row9\" >smoke</th>\n",
       "                        <td id=\"T_99ab8_row9_col0\" class=\"data row9 col0\" >-0.003699</td>\n",
       "                        <td id=\"T_99ab8_row9_col1\" class=\"data row9 col1\" >-0.047633</td>\n",
       "                        <td id=\"T_99ab8_row9_col2\" class=\"data row9 col2\" >0.338135</td>\n",
       "                        <td id=\"T_99ab8_row9_col3\" class=\"data row9 col3\" >0.187989</td>\n",
       "                        <td id=\"T_99ab8_row9_col4\" class=\"data row9 col4\" >0.067780</td>\n",
       "                        <td id=\"T_99ab8_row9_col5\" class=\"data row9 col5\" >-0.000922</td>\n",
       "                        <td id=\"T_99ab8_row9_col6\" class=\"data row9 col6\" >0.005186</td>\n",
       "                        <td id=\"T_99ab8_row9_col7\" class=\"data row9 col7\" >0.010354</td>\n",
       "                        <td id=\"T_99ab8_row9_col8\" class=\"data row9 col8\" >-0.004756</td>\n",
       "                        <td id=\"T_99ab8_row9_col9\" class=\"data row9 col9\" >1.000000</td>\n",
       "                        <td id=\"T_99ab8_row9_col10\" class=\"data row9 col10\" >nan</td>\n",
       "                        <td id=\"T_99ab8_row9_col11\" class=\"data row9 col11\" >nan</td>\n",
       "                        <td id=\"T_99ab8_row9_col12\" class=\"data row9 col12\" >nan</td>\n",
       "            </tr>\n",
       "            <tr>\n",
       "                        <th id=\"T_99ab8_level0_row10\" class=\"row_heading level0 row10\" >alco</th>\n",
       "                        <td id=\"T_99ab8_row10_col0\" class=\"data row10 col0\" >0.001210</td>\n",
       "                        <td id=\"T_99ab8_row10_col1\" class=\"data row10 col1\" >-0.029723</td>\n",
       "                        <td id=\"T_99ab8_row10_col2\" class=\"data row10 col2\" >0.170966</td>\n",
       "                        <td id=\"T_99ab8_row10_col3\" class=\"data row10 col3\" >0.094419</td>\n",
       "                        <td id=\"T_99ab8_row10_col4\" class=\"data row10 col4\" >0.067113</td>\n",
       "                        <td id=\"T_99ab8_row10_col5\" class=\"data row10 col5\" >0.001408</td>\n",
       "                        <td id=\"T_99ab8_row10_col6\" class=\"data row10 col6\" >0.010601</td>\n",
       "                        <td id=\"T_99ab8_row10_col7\" class=\"data row10 col7\" >0.035760</td>\n",
       "                        <td id=\"T_99ab8_row10_col8\" class=\"data row10 col8\" >0.011246</td>\n",
       "                        <td id=\"T_99ab8_row10_col9\" class=\"data row10 col9\" >0.340094</td>\n",
       "                        <td id=\"T_99ab8_row10_col10\" class=\"data row10 col10\" >1.000000</td>\n",
       "                        <td id=\"T_99ab8_row10_col11\" class=\"data row10 col11\" >nan</td>\n",
       "                        <td id=\"T_99ab8_row10_col12\" class=\"data row10 col12\" >nan</td>\n",
       "            </tr>\n",
       "            <tr>\n",
       "                        <th id=\"T_99ab8_level0_row11\" class=\"row_heading level0 row11\" >active</th>\n",
       "                        <td id=\"T_99ab8_row11_col0\" class=\"data row11 col0\" >0.003755</td>\n",
       "                        <td id=\"T_99ab8_row11_col1\" class=\"data row11 col1\" >-0.009927</td>\n",
       "                        <td id=\"T_99ab8_row11_col2\" class=\"data row11 col2\" >0.005866</td>\n",
       "                        <td id=\"T_99ab8_row11_col3\" class=\"data row11 col3\" >-0.006570</td>\n",
       "                        <td id=\"T_99ab8_row11_col4\" class=\"data row11 col4\" >-0.016867</td>\n",
       "                        <td id=\"T_99ab8_row11_col5\" class=\"data row11 col5\" >-0.000033</td>\n",
       "                        <td id=\"T_99ab8_row11_col6\" class=\"data row11 col6\" >0.004780</td>\n",
       "                        <td id=\"T_99ab8_row11_col7\" class=\"data row11 col7\" >0.009911</td>\n",
       "                        <td id=\"T_99ab8_row11_col8\" class=\"data row11 col8\" >-0.006770</td>\n",
       "                        <td id=\"T_99ab8_row11_col9\" class=\"data row11 col9\" >0.025858</td>\n",
       "                        <td id=\"T_99ab8_row11_col10\" class=\"data row11 col10\" >0.025476</td>\n",
       "                        <td id=\"T_99ab8_row11_col11\" class=\"data row11 col11\" >1.000000</td>\n",
       "                        <td id=\"T_99ab8_row11_col12\" class=\"data row11 col12\" >nan</td>\n",
       "            </tr>\n",
       "            <tr>\n",
       "                        <th id=\"T_99ab8_level0_row12\" class=\"row_heading level0 row12\" >cardio</th>\n",
       "                        <td id=\"T_99ab8_row12_col0\" class=\"data row12 col0\" >0.003799</td>\n",
       "                        <td id=\"T_99ab8_row12_col1\" class=\"data row12 col1\" >0.238159</td>\n",
       "                        <td id=\"T_99ab8_row12_col2\" class=\"data row12 col2\" >0.008109</td>\n",
       "                        <td id=\"T_99ab8_row12_col3\" class=\"data row12 col3\" >-0.010821</td>\n",
       "                        <td id=\"T_99ab8_row12_col4\" class=\"data row12 col4\" >0.181660</td>\n",
       "                        <td id=\"T_99ab8_row12_col5\" class=\"data row12 col5\" >0.054475</td>\n",
       "                        <td id=\"T_99ab8_row12_col6\" class=\"data row12 col6\" >0.065719</td>\n",
       "                        <td id=\"T_99ab8_row12_col7\" class=\"data row12 col7\" >0.221147</td>\n",
       "                        <td id=\"T_99ab8_row12_col8\" class=\"data row12 col8\" >0.089307</td>\n",
       "                        <td id=\"T_99ab8_row12_col9\" class=\"data row12 col9\" >-0.015486</td>\n",
       "                        <td id=\"T_99ab8_row12_col10\" class=\"data row12 col10\" >-0.007330</td>\n",
       "                        <td id=\"T_99ab8_row12_col11\" class=\"data row12 col11\" >-0.035653</td>\n",
       "                        <td id=\"T_99ab8_row12_col12\" class=\"data row12 col12\" >1.000000</td>\n",
       "            </tr>\n",
       "    </tbody></table>"
      ],
      "text/plain": [
       "<pandas.io.formats.style.Styler at 0x20ba839adc0>"
      ]
     },
     "execution_count": 34,
     "metadata": {},
     "output_type": "execute_result"
    }
   ],
   "source": [
    "corr = df.corr()\n",
    "#corr = corr.where(np.tril(np.ones(corr.shape)).astype(bool))\n",
    "#(corr.style\n",
    "# .background_gradient(cmap='coolwarm', axis=None, vmin=-1, vmax=1)\n",
    "# .format(precision=2)\n",
    "# .highlight_null(null_color='#f1f1f1')\n",
    "# )\n",
    "corr = corr.where(np.tril(np.ones(corr.shape)).astype(bool))\n",
    "(corr.style\n",
    " .background_gradient(cmap='coolwarm', axis=None, vmin=-1, vmax=1)\n",
    " .highlight_null(null_color='#f1f1f1')\n",
    " )"
   ]
  },
  {
   "cell_type": "markdown",
   "metadata": {},
   "source": [
    "It looks like subjective features 'Smoke','Phisically active' & 'Drink alcohol', whiuch most probably came from patient themselves have minimum corelation to target. Lets get rid on them."
   ]
  },
  {
   "cell_type": "code",
   "execution_count": 35,
   "metadata": {},
   "outputs": [
    {
     "data": {
      "text/html": [
       "<div>\n",
       "<style scoped>\n",
       "    .dataframe tbody tr th:only-of-type {\n",
       "        vertical-align: middle;\n",
       "    }\n",
       "\n",
       "    .dataframe tbody tr th {\n",
       "        vertical-align: top;\n",
       "    }\n",
       "\n",
       "    .dataframe thead th {\n",
       "        text-align: right;\n",
       "    }\n",
       "</style>\n",
       "<table border=\"1\" class=\"dataframe\">\n",
       "  <thead>\n",
       "    <tr style=\"text-align: right;\">\n",
       "      <th></th>\n",
       "      <th>age</th>\n",
       "      <th>gender</th>\n",
       "      <th>height</th>\n",
       "      <th>weight</th>\n",
       "      <th>ap_hi</th>\n",
       "      <th>ap_lo</th>\n",
       "      <th>cholesterol</th>\n",
       "      <th>gluc</th>\n",
       "      <th>cardio</th>\n",
       "      <th>bmi</th>\n",
       "      <th>bmi_cat</th>\n",
       "    </tr>\n",
       "  </thead>\n",
       "  <tbody>\n",
       "    <tr>\n",
       "      <th>0</th>\n",
       "      <td>50.391781</td>\n",
       "      <td>M</td>\n",
       "      <td>168</td>\n",
       "      <td>62.0</td>\n",
       "      <td>110</td>\n",
       "      <td>80</td>\n",
       "      <td>Normal</td>\n",
       "      <td>Normal</td>\n",
       "      <td>0</td>\n",
       "      <td>21.967120</td>\n",
       "      <td>Normal</td>\n",
       "    </tr>\n",
       "    <tr>\n",
       "      <th>1</th>\n",
       "      <td>55.419178</td>\n",
       "      <td>F</td>\n",
       "      <td>156</td>\n",
       "      <td>85.0</td>\n",
       "      <td>140</td>\n",
       "      <td>90</td>\n",
       "      <td>High</td>\n",
       "      <td>Normal</td>\n",
       "      <td>1</td>\n",
       "      <td>34.927679</td>\n",
       "      <td>Obese</td>\n",
       "    </tr>\n",
       "    <tr>\n",
       "      <th>2</th>\n",
       "      <td>51.663014</td>\n",
       "      <td>F</td>\n",
       "      <td>165</td>\n",
       "      <td>64.0</td>\n",
       "      <td>130</td>\n",
       "      <td>70</td>\n",
       "      <td>High</td>\n",
       "      <td>Normal</td>\n",
       "      <td>1</td>\n",
       "      <td>23.507805</td>\n",
       "      <td>Normal</td>\n",
       "    </tr>\n",
       "    <tr>\n",
       "      <th>3</th>\n",
       "      <td>48.282192</td>\n",
       "      <td>M</td>\n",
       "      <td>169</td>\n",
       "      <td>82.0</td>\n",
       "      <td>150</td>\n",
       "      <td>100</td>\n",
       "      <td>Normal</td>\n",
       "      <td>Normal</td>\n",
       "      <td>1</td>\n",
       "      <td>28.710479</td>\n",
       "      <td>Overweight</td>\n",
       "    </tr>\n",
       "    <tr>\n",
       "      <th>4</th>\n",
       "      <td>47.873973</td>\n",
       "      <td>F</td>\n",
       "      <td>156</td>\n",
       "      <td>56.0</td>\n",
       "      <td>100</td>\n",
       "      <td>60</td>\n",
       "      <td>Normal</td>\n",
       "      <td>Normal</td>\n",
       "      <td>0</td>\n",
       "      <td>23.011177</td>\n",
       "      <td>Normal</td>\n",
       "    </tr>\n",
       "    <tr>\n",
       "      <th>...</th>\n",
       "      <td>...</td>\n",
       "      <td>...</td>\n",
       "      <td>...</td>\n",
       "      <td>...</td>\n",
       "      <td>...</td>\n",
       "      <td>...</td>\n",
       "      <td>...</td>\n",
       "      <td>...</td>\n",
       "      <td>...</td>\n",
       "      <td>...</td>\n",
       "      <td>...</td>\n",
       "    </tr>\n",
       "    <tr>\n",
       "      <th>69995</th>\n",
       "      <td>52.712329</td>\n",
       "      <td>M</td>\n",
       "      <td>168</td>\n",
       "      <td>76.0</td>\n",
       "      <td>120</td>\n",
       "      <td>80</td>\n",
       "      <td>Normal</td>\n",
       "      <td>Normal</td>\n",
       "      <td>0</td>\n",
       "      <td>26.927438</td>\n",
       "      <td>Overweight</td>\n",
       "    </tr>\n",
       "    <tr>\n",
       "      <th>69996</th>\n",
       "      <td>61.920548</td>\n",
       "      <td>F</td>\n",
       "      <td>158</td>\n",
       "      <td>126.0</td>\n",
       "      <td>140</td>\n",
       "      <td>90</td>\n",
       "      <td>Above Normal</td>\n",
       "      <td>Above Normal</td>\n",
       "      <td>1</td>\n",
       "      <td>50.472681</td>\n",
       "      <td>Obese</td>\n",
       "    </tr>\n",
       "    <tr>\n",
       "      <th>69997</th>\n",
       "      <td>52.235616</td>\n",
       "      <td>M</td>\n",
       "      <td>183</td>\n",
       "      <td>105.0</td>\n",
       "      <td>180</td>\n",
       "      <td>90</td>\n",
       "      <td>High</td>\n",
       "      <td>Normal</td>\n",
       "      <td>1</td>\n",
       "      <td>31.353579</td>\n",
       "      <td>Obese</td>\n",
       "    </tr>\n",
       "    <tr>\n",
       "      <th>69998</th>\n",
       "      <td>61.454795</td>\n",
       "      <td>F</td>\n",
       "      <td>163</td>\n",
       "      <td>72.0</td>\n",
       "      <td>135</td>\n",
       "      <td>80</td>\n",
       "      <td>Normal</td>\n",
       "      <td>Above Normal</td>\n",
       "      <td>1</td>\n",
       "      <td>27.099251</td>\n",
       "      <td>Overweight</td>\n",
       "    </tr>\n",
       "    <tr>\n",
       "      <th>69999</th>\n",
       "      <td>56.273973</td>\n",
       "      <td>F</td>\n",
       "      <td>170</td>\n",
       "      <td>72.0</td>\n",
       "      <td>120</td>\n",
       "      <td>80</td>\n",
       "      <td>Above Normal</td>\n",
       "      <td>Normal</td>\n",
       "      <td>0</td>\n",
       "      <td>24.913495</td>\n",
       "      <td>Normal</td>\n",
       "    </tr>\n",
       "  </tbody>\n",
       "</table>\n",
       "<p>69972 rows × 11 columns</p>\n",
       "</div>"
      ],
      "text/plain": [
       "             age gender  height  weight  ap_hi  ap_lo   cholesterol  \\\n",
       "0      50.391781      M     168    62.0    110     80        Normal   \n",
       "1      55.419178      F     156    85.0    140     90          High   \n",
       "2      51.663014      F     165    64.0    130     70          High   \n",
       "3      48.282192      M     169    82.0    150    100        Normal   \n",
       "4      47.873973      F     156    56.0    100     60        Normal   \n",
       "...          ...    ...     ...     ...    ...    ...           ...   \n",
       "69995  52.712329      M     168    76.0    120     80        Normal   \n",
       "69996  61.920548      F     158   126.0    140     90  Above Normal   \n",
       "69997  52.235616      M     183   105.0    180     90          High   \n",
       "69998  61.454795      F     163    72.0    135     80        Normal   \n",
       "69999  56.273973      F     170    72.0    120     80  Above Normal   \n",
       "\n",
       "               gluc  cardio        bmi     bmi_cat  \n",
       "0            Normal       0  21.967120      Normal  \n",
       "1            Normal       1  34.927679       Obese  \n",
       "2            Normal       1  23.507805      Normal  \n",
       "3            Normal       1  28.710479  Overweight  \n",
       "4            Normal       0  23.011177      Normal  \n",
       "...             ...     ...        ...         ...  \n",
       "69995        Normal       0  26.927438  Overweight  \n",
       "69996  Above Normal       1  50.472681       Obese  \n",
       "69997        Normal       1  31.353579       Obese  \n",
       "69998  Above Normal       1  27.099251  Overweight  \n",
       "69999        Normal       0  24.913495      Normal  \n",
       "\n",
       "[69972 rows x 11 columns]"
      ]
     },
     "execution_count": 35,
     "metadata": {},
     "output_type": "execute_result"
    }
   ],
   "source": [
    "df_cleaned = df_feature.drop(['smoke','alco','active'],axis=1)\n",
    "df_cleaned"
   ]
  },
  {
   "cell_type": "markdown",
   "metadata": {},
   "source": [
    "We use the cleansed dataframe for further ML tasks."
   ]
  },
  {
   "cell_type": "markdown",
   "metadata": {},
   "source": [
    "## Machine Learning"
   ]
  },
  {
   "cell_type": "code",
   "execution_count": 36,
   "metadata": {},
   "outputs": [],
   "source": [
    "from sklearn.neighbors import KNeighborsClassifier\n",
    "from sklearn.ensemble import RandomForestClassifier\n",
    "from sklearn.linear_model import LogisticRegression\n",
    "from sklearn.tree import DecisionTreeClassifier\n",
    "from sklearn.svm import SVC\n",
    "from sklearn.metrics import f1_score,accuracy_score,classification_report"
   ]
  },
  {
   "cell_type": "markdown",
   "metadata": {},
   "source": [
    "Delete the target label. split bin X, y sets for features and target."
   ]
  },
  {
   "cell_type": "code",
   "execution_count": 37,
   "metadata": {},
   "outputs": [
    {
     "data": {
      "text/html": [
       "<div>\n",
       "<style scoped>\n",
       "    .dataframe tbody tr th:only-of-type {\n",
       "        vertical-align: middle;\n",
       "    }\n",
       "\n",
       "    .dataframe tbody tr th {\n",
       "        vertical-align: top;\n",
       "    }\n",
       "\n",
       "    .dataframe thead th {\n",
       "        text-align: right;\n",
       "    }\n",
       "</style>\n",
       "<table border=\"1\" class=\"dataframe\">\n",
       "  <thead>\n",
       "    <tr style=\"text-align: right;\">\n",
       "      <th></th>\n",
       "      <th>age</th>\n",
       "      <th>gender</th>\n",
       "      <th>ap_hi</th>\n",
       "      <th>ap_lo</th>\n",
       "      <th>cholesterol</th>\n",
       "      <th>gluc</th>\n",
       "      <th>bmi</th>\n",
       "    </tr>\n",
       "  </thead>\n",
       "  <tbody>\n",
       "    <tr>\n",
       "      <th>0</th>\n",
       "      <td>50.391781</td>\n",
       "      <td>1</td>\n",
       "      <td>110</td>\n",
       "      <td>80</td>\n",
       "      <td>2</td>\n",
       "      <td>2</td>\n",
       "      <td>21.967120</td>\n",
       "    </tr>\n",
       "    <tr>\n",
       "      <th>1</th>\n",
       "      <td>55.419178</td>\n",
       "      <td>0</td>\n",
       "      <td>140</td>\n",
       "      <td>90</td>\n",
       "      <td>1</td>\n",
       "      <td>2</td>\n",
       "      <td>34.927679</td>\n",
       "    </tr>\n",
       "  </tbody>\n",
       "</table>\n",
       "</div>"
      ],
      "text/plain": [
       "         age gender  ap_hi  ap_lo cholesterol gluc        bmi\n",
       "0  50.391781      1    110     80           2    2  21.967120\n",
       "1  55.419178      0    140     90           1    2  34.927679"
      ]
     },
     "execution_count": 37,
     "metadata": {},
     "output_type": "execute_result"
    }
   ],
   "source": [
    "X = df_cleaned.drop(['cardio','bmi_cat','height','weight'],axis=1)\n",
    "y = df_cleaned['cardio'].copy()\n",
    "\n",
    "X.gender = X.gender.map(gender_map)\n",
    "X.cholesterol = X.cholesterol.map(cholesterol_map)\n",
    "X.gluc = X.gluc.map(gluc_map)\n",
    "\n",
    "X.head(2)"
   ]
  },
  {
   "cell_type": "markdown",
   "metadata": {},
   "source": [
    "### Train Test Split\n",
    "\n",
    "Split the data into a training set and a test set. Since the data is not huge, we split 90 to 10. "
   ]
  },
  {
   "cell_type": "code",
   "execution_count": 38,
   "metadata": {},
   "outputs": [],
   "source": [
    "X_train, X_test, y_train, y_test = train_test_split(X,y,test_size=0.1)"
   ]
  },
  {
   "cell_type": "markdown",
   "metadata": {},
   "source": [
    "### Feature Normalization\n",
    "\n",
    "Lets normalize the numerical values to same ranges.Lets normalize the numerical values to same ranges."
   ]
  },
  {
   "cell_type": "code",
   "execution_count": 39,
   "metadata": {},
   "outputs": [
    {
     "name": "stderr",
     "output_type": "stream",
     "text": [
      "<ipython-input-39-f21d65acda35>:3: SettingWithCopyWarning: \n",
      "A value is trying to be set on a copy of a slice from a DataFrame.\n",
      "Try using .loc[row_indexer,col_indexer] = value instead\n",
      "\n",
      "See the caveats in the documentation: https://pandas.pydata.org/pandas-docs/stable/user_guide/indexing.html#returning-a-view-versus-a-copy\n",
      "  X_train[['age','ap_hi','ap_lo','bmi']] = scaler.fit_transform(X_train[['age','ap_hi','ap_lo','bmi']])\n",
      "C:\\Users\\i1B252778\\Anaconda3\\lib\\site-packages\\pandas\\core\\indexing.py:1738: SettingWithCopyWarning: \n",
      "A value is trying to be set on a copy of a slice from a DataFrame.\n",
      "Try using .loc[row_indexer,col_indexer] = value instead\n",
      "\n",
      "See the caveats in the documentation: https://pandas.pydata.org/pandas-docs/stable/user_guide/indexing.html#returning-a-view-versus-a-copy\n",
      "  self._setitem_single_column(loc, value[:, i].tolist(), pi)\n"
     ]
    },
    {
     "data": {
      "text/html": [
       "<div>\n",
       "<style scoped>\n",
       "    .dataframe tbody tr th:only-of-type {\n",
       "        vertical-align: middle;\n",
       "    }\n",
       "\n",
       "    .dataframe tbody tr th {\n",
       "        vertical-align: top;\n",
       "    }\n",
       "\n",
       "    .dataframe thead th {\n",
       "        text-align: right;\n",
       "    }\n",
       "</style>\n",
       "<table border=\"1\" class=\"dataframe\">\n",
       "  <thead>\n",
       "    <tr style=\"text-align: right;\">\n",
       "      <th></th>\n",
       "      <th>age</th>\n",
       "      <th>gender</th>\n",
       "      <th>ap_hi</th>\n",
       "      <th>ap_lo</th>\n",
       "      <th>cholesterol</th>\n",
       "      <th>gluc</th>\n",
       "      <th>bmi</th>\n",
       "    </tr>\n",
       "  </thead>\n",
       "  <tbody>\n",
       "    <tr>\n",
       "      <th>989</th>\n",
       "      <td>0.177405</td>\n",
       "      <td>0</td>\n",
       "      <td>1.408967</td>\n",
       "      <td>0.927993</td>\n",
       "      <td>2</td>\n",
       "      <td>2</td>\n",
       "      <td>-0.047105</td>\n",
       "    </tr>\n",
       "    <tr>\n",
       "      <th>51593</th>\n",
       "      <td>0.958325</td>\n",
       "      <td>0</td>\n",
       "      <td>0.200181</td>\n",
       "      <td>0.927993</td>\n",
       "      <td>2</td>\n",
       "      <td>2</td>\n",
       "      <td>0.995232</td>\n",
       "    </tr>\n",
       "    <tr>\n",
       "      <th>60838</th>\n",
       "      <td>0.659000</td>\n",
       "      <td>1</td>\n",
       "      <td>0.804574</td>\n",
       "      <td>1.994390</td>\n",
       "      <td>0</td>\n",
       "      <td>2</td>\n",
       "      <td>4.476753</td>\n",
       "    </tr>\n",
       "    <tr>\n",
       "      <th>56315</th>\n",
       "      <td>-0.825073</td>\n",
       "      <td>1</td>\n",
       "      <td>0.200181</td>\n",
       "      <td>0.927993</td>\n",
       "      <td>2</td>\n",
       "      <td>0</td>\n",
       "      <td>0.605318</td>\n",
       "    </tr>\n",
       "    <tr>\n",
       "      <th>35115</th>\n",
       "      <td>-2.006580</td>\n",
       "      <td>0</td>\n",
       "      <td>-0.404212</td>\n",
       "      <td>-0.138404</td>\n",
       "      <td>2</td>\n",
       "      <td>2</td>\n",
       "      <td>0.633783</td>\n",
       "    </tr>\n",
       "  </tbody>\n",
       "</table>\n",
       "</div>"
      ],
      "text/plain": [
       "            age gender     ap_hi     ap_lo cholesterol gluc       bmi\n",
       "989    0.177405      0  1.408967  0.927993           2    2 -0.047105\n",
       "51593  0.958325      0  0.200181  0.927993           2    2  0.995232\n",
       "60838  0.659000      1  0.804574  1.994390           0    2  4.476753\n",
       "56315 -0.825073      1  0.200181  0.927993           2    0  0.605318\n",
       "35115 -2.006580      0 -0.404212 -0.138404           2    2  0.633783"
      ]
     },
     "execution_count": 39,
     "metadata": {},
     "output_type": "execute_result"
    }
   ],
   "source": [
    "scaler = StandardScaler()\n",
    "\n",
    "X_train[['age','ap_hi','ap_lo','bmi']] = scaler.fit_transform(X_train[['age','ap_hi','ap_lo','bmi']])\n",
    "X_train.head(5)"
   ]
  },
  {
   "cell_type": "code",
   "execution_count": 40,
   "metadata": {},
   "outputs": [
    {
     "name": "stderr",
     "output_type": "stream",
     "text": [
      "<ipython-input-40-03a8307e3773>:1: SettingWithCopyWarning: \n",
      "A value is trying to be set on a copy of a slice from a DataFrame.\n",
      "Try using .loc[row_indexer,col_indexer] = value instead\n",
      "\n",
      "See the caveats in the documentation: https://pandas.pydata.org/pandas-docs/stable/user_guide/indexing.html#returning-a-view-versus-a-copy\n",
      "  X_test[['age','ap_hi','ap_lo','bmi']] = scaler.transform(X_test[['age','ap_hi','ap_lo','bmi']])\n",
      "C:\\Users\\i1B252778\\Anaconda3\\lib\\site-packages\\pandas\\core\\indexing.py:1738: SettingWithCopyWarning: \n",
      "A value is trying to be set on a copy of a slice from a DataFrame.\n",
      "Try using .loc[row_indexer,col_indexer] = value instead\n",
      "\n",
      "See the caveats in the documentation: https://pandas.pydata.org/pandas-docs/stable/user_guide/indexing.html#returning-a-view-versus-a-copy\n",
      "  self._setitem_single_column(loc, value[:, i].tolist(), pi)\n"
     ]
    },
    {
     "data": {
      "text/html": [
       "<div>\n",
       "<style scoped>\n",
       "    .dataframe tbody tr th:only-of-type {\n",
       "        vertical-align: middle;\n",
       "    }\n",
       "\n",
       "    .dataframe tbody tr th {\n",
       "        vertical-align: top;\n",
       "    }\n",
       "\n",
       "    .dataframe thead th {\n",
       "        text-align: right;\n",
       "    }\n",
       "</style>\n",
       "<table border=\"1\" class=\"dataframe\">\n",
       "  <thead>\n",
       "    <tr style=\"text-align: right;\">\n",
       "      <th></th>\n",
       "      <th>age</th>\n",
       "      <th>gender</th>\n",
       "      <th>ap_hi</th>\n",
       "      <th>ap_lo</th>\n",
       "      <th>cholesterol</th>\n",
       "      <th>gluc</th>\n",
       "      <th>bmi</th>\n",
       "    </tr>\n",
       "  </thead>\n",
       "  <tbody>\n",
       "    <tr>\n",
       "      <th>18658</th>\n",
       "      <td>-0.147034</td>\n",
       "      <td>0</td>\n",
       "      <td>-1.612999</td>\n",
       "      <td>-2.271198</td>\n",
       "      <td>2</td>\n",
       "      <td>2</td>\n",
       "      <td>3.243413</td>\n",
       "    </tr>\n",
       "    <tr>\n",
       "      <th>48019</th>\n",
       "      <td>-0.295279</td>\n",
       "      <td>0</td>\n",
       "      <td>-1.612999</td>\n",
       "      <td>-1.204801</td>\n",
       "      <td>2</td>\n",
       "      <td>2</td>\n",
       "      <td>1.188101</td>\n",
       "    </tr>\n",
       "    <tr>\n",
       "      <th>31350</th>\n",
       "      <td>-1.196092</td>\n",
       "      <td>1</td>\n",
       "      <td>-1.008606</td>\n",
       "      <td>-0.138404</td>\n",
       "      <td>2</td>\n",
       "      <td>2</td>\n",
       "      <td>-1.937631</td>\n",
       "    </tr>\n",
       "    <tr>\n",
       "      <th>24428</th>\n",
       "      <td>-1.024759</td>\n",
       "      <td>0</td>\n",
       "      <td>-1.008606</td>\n",
       "      <td>-1.204801</td>\n",
       "      <td>2</td>\n",
       "      <td>2</td>\n",
       "      <td>-0.428110</td>\n",
       "    </tr>\n",
       "    <tr>\n",
       "      <th>31126</th>\n",
       "      <td>-0.095593</td>\n",
       "      <td>0</td>\n",
       "      <td>-0.404212</td>\n",
       "      <td>-0.138404</td>\n",
       "      <td>2</td>\n",
       "      <td>2</td>\n",
       "      <td>-0.545716</td>\n",
       "    </tr>\n",
       "  </tbody>\n",
       "</table>\n",
       "</div>"
      ],
      "text/plain": [
       "            age gender     ap_hi     ap_lo cholesterol gluc       bmi\n",
       "18658 -0.147034      0 -1.612999 -2.271198           2    2  3.243413\n",
       "48019 -0.295279      0 -1.612999 -1.204801           2    2  1.188101\n",
       "31350 -1.196092      1 -1.008606 -0.138404           2    2 -1.937631\n",
       "24428 -1.024759      0 -1.008606 -1.204801           2    2 -0.428110\n",
       "31126 -0.095593      0 -0.404212 -0.138404           2    2 -0.545716"
      ]
     },
     "execution_count": 40,
     "metadata": {},
     "output_type": "execute_result"
    }
   ],
   "source": [
    "X_test[['age','ap_hi','ap_lo','bmi']] = scaler.transform(X_test[['age','ap_hi','ap_lo','bmi']])\n",
    "X_test.head(5)"
   ]
  },
  {
   "cell_type": "markdown",
   "metadata": {},
   "source": [
    "## Unsupervised Learning"
   ]
  },
  {
   "cell_type": "markdown",
   "metadata": {},
   "source": [
    "- PCA\n",
    "- Kmeans\n",
    "- Hierarichal clustering"
   ]
  },
  {
   "cell_type": "markdown",
   "metadata": {},
   "source": [
    "## PCA"
   ]
  },
  {
   "cell_type": "markdown",
   "metadata": {},
   "source": [
    "Prepare Save fig and PCA"
   ]
  },
  {
   "cell_type": "code",
   "execution_count": 41,
   "metadata": {},
   "outputs": [],
   "source": [
    "import os\n",
    "def save_fig(fig_id, tight_layout=True, fig_extension=\"png\", resolution=300):\n",
    "    path = os.path.join(IMAGES_PATH, fig_id + \".\" + fig_extension)\n",
    "    print(\"Saving figure\", fig_id)\n",
    "    if tight_layout:\n",
    "        plt.tight_layout()\n",
    "    plt.savefig(path, format=fig_extension, dpi=resolution)"
   ]
  },
  {
   "cell_type": "code",
   "execution_count": 42,
   "metadata": {},
   "outputs": [],
   "source": [
    "from sklearn.decomposition import PCA"
   ]
  },
  {
   "cell_type": "markdown",
   "metadata": {},
   "source": [
    "Check again Train Set"
   ]
  },
  {
   "cell_type": "code",
   "execution_count": 43,
   "metadata": {},
   "outputs": [
    {
     "data": {
      "text/html": [
       "<div>\n",
       "<style scoped>\n",
       "    .dataframe tbody tr th:only-of-type {\n",
       "        vertical-align: middle;\n",
       "    }\n",
       "\n",
       "    .dataframe tbody tr th {\n",
       "        vertical-align: top;\n",
       "    }\n",
       "\n",
       "    .dataframe thead th {\n",
       "        text-align: right;\n",
       "    }\n",
       "</style>\n",
       "<table border=\"1\" class=\"dataframe\">\n",
       "  <thead>\n",
       "    <tr style=\"text-align: right;\">\n",
       "      <th></th>\n",
       "      <th>age</th>\n",
       "      <th>gender</th>\n",
       "      <th>ap_hi</th>\n",
       "      <th>ap_lo</th>\n",
       "      <th>cholesterol</th>\n",
       "      <th>gluc</th>\n",
       "      <th>bmi</th>\n",
       "    </tr>\n",
       "  </thead>\n",
       "  <tbody>\n",
       "    <tr>\n",
       "      <th>989</th>\n",
       "      <td>0.177405</td>\n",
       "      <td>0</td>\n",
       "      <td>1.408967</td>\n",
       "      <td>0.927993</td>\n",
       "      <td>2</td>\n",
       "      <td>2</td>\n",
       "      <td>-0.047105</td>\n",
       "    </tr>\n",
       "    <tr>\n",
       "      <th>51593</th>\n",
       "      <td>0.958325</td>\n",
       "      <td>0</td>\n",
       "      <td>0.200181</td>\n",
       "      <td>0.927993</td>\n",
       "      <td>2</td>\n",
       "      <td>2</td>\n",
       "      <td>0.995232</td>\n",
       "    </tr>\n",
       "    <tr>\n",
       "      <th>60838</th>\n",
       "      <td>0.659000</td>\n",
       "      <td>1</td>\n",
       "      <td>0.804574</td>\n",
       "      <td>1.994390</td>\n",
       "      <td>0</td>\n",
       "      <td>2</td>\n",
       "      <td>4.476753</td>\n",
       "    </tr>\n",
       "    <tr>\n",
       "      <th>56315</th>\n",
       "      <td>-0.825073</td>\n",
       "      <td>1</td>\n",
       "      <td>0.200181</td>\n",
       "      <td>0.927993</td>\n",
       "      <td>2</td>\n",
       "      <td>0</td>\n",
       "      <td>0.605318</td>\n",
       "    </tr>\n",
       "    <tr>\n",
       "      <th>35115</th>\n",
       "      <td>-2.006580</td>\n",
       "      <td>0</td>\n",
       "      <td>-0.404212</td>\n",
       "      <td>-0.138404</td>\n",
       "      <td>2</td>\n",
       "      <td>2</td>\n",
       "      <td>0.633783</td>\n",
       "    </tr>\n",
       "  </tbody>\n",
       "</table>\n",
       "</div>"
      ],
      "text/plain": [
       "            age gender     ap_hi     ap_lo cholesterol gluc       bmi\n",
       "989    0.177405      0  1.408967  0.927993           2    2 -0.047105\n",
       "51593  0.958325      0  0.200181  0.927993           2    2  0.995232\n",
       "60838  0.659000      1  0.804574  1.994390           0    2  4.476753\n",
       "56315 -0.825073      1  0.200181  0.927993           2    0  0.605318\n",
       "35115 -2.006580      0 -0.404212 -0.138404           2    2  0.633783"
      ]
     },
     "execution_count": 43,
     "metadata": {},
     "output_type": "execute_result"
    }
   ],
   "source": [
    "X_train.head()"
   ]
  },
  {
   "cell_type": "markdown",
   "metadata": {},
   "source": [
    "Lets Fit with PCA"
   ]
  },
  {
   "cell_type": "code",
   "execution_count": 44,
   "metadata": {},
   "outputs": [],
   "source": [
    "pca = PCA()\n",
    "pca.fit(X_train)\n",
    "cumsum = np.cumsum(pca.explained_variance_ratio_)"
   ]
  },
  {
   "cell_type": "markdown",
   "metadata": {},
   "source": [
    "Take a look on dimensions"
   ]
  },
  {
   "cell_type": "code",
   "execution_count": 45,
   "metadata": {},
   "outputs": [
    {
     "data": {
      "text/plain": [
       "7"
      ]
     },
     "execution_count": 45,
     "metadata": {},
     "output_type": "execute_result"
    }
   ],
   "source": [
    "pca.n_components_"
   ]
  },
  {
   "cell_type": "markdown",
   "metadata": {},
   "source": [
    "Percentage of Variance explained by each of the sel. Components"
   ]
  },
  {
   "cell_type": "code",
   "execution_count": 46,
   "metadata": {},
   "outputs": [
    {
     "data": {
      "text/plain": [
       "array([0.39253179, 0.18210724, 0.17303647, 0.10577224, 0.05225505,\n",
       "       0.05082871, 0.04346849])"
      ]
     },
     "execution_count": 46,
     "metadata": {},
     "output_type": "execute_result"
    }
   ],
   "source": [
    "pca.explained_variance_ratio_"
   ]
  },
  {
   "cell_type": "markdown",
   "metadata": {},
   "source": [
    "cumsum would be 1 if not n_components"
   ]
  },
  {
   "cell_type": "code",
   "execution_count": 47,
   "metadata": {
    "scrolled": false
   },
   "outputs": [
    {
     "data": {
      "text/plain": [
       "array([False, False, False, False, False,  True,  True])"
      ]
     },
     "execution_count": 47,
     "metadata": {},
     "output_type": "execute_result"
    }
   ],
   "source": [
    "cumsum = np.cumsum(pca.explained_variance_ratio_)\n",
    "cumsum >= 0.95"
   ]
  },
  {
   "cell_type": "markdown",
   "metadata": {},
   "source": [
    "Check dimensions for Variance ratio 95%"
   ]
  },
  {
   "cell_type": "code",
   "execution_count": 48,
   "metadata": {},
   "outputs": [
    {
     "data": {
      "text/plain": [
       "6"
      ]
     },
     "execution_count": 48,
     "metadata": {},
     "output_type": "execute_result"
    }
   ],
   "source": [
    "d = np.argmax(cumsum >= 0.95) + 1\n",
    "d"
   ]
  },
  {
   "cell_type": "markdown",
   "metadata": {},
   "source": [
    "Look for the \"Elbow\""
   ]
  },
  {
   "cell_type": "code",
   "execution_count": 49,
   "metadata": {},
   "outputs": [
    {
     "data": {
      "image/png": "[encoded data removed]",
      "text/plain": [
       "<Figure size 432x288 with 1 Axes>"
      ]
     },
     "metadata": {
      "needs_background": "light"
     },
     "output_type": "display_data"
    }
   ],
   "source": [
    "plt.figure(figsize=(6,4))\n",
    "plt.plot(cumsum, linewidth=3)\n",
    "plt.axis([0, 8, 0, 1])\n",
    "plt.xlabel(\"Dimensions\")\n",
    "plt.ylabel(\"Explained Variance\")\n",
    "plt.plot([d, d], [0, 0.95], \"k:\")\n",
    "plt.plot([0, d], [0.95, 0.95], \"k:\")\n",
    "plt.plot(d, 0.95, \"ko\")\n",
    "plt.annotate(\"Elbow\", xy=(3, 0.85), xytext=(3.5, 0.7),\n",
    "             arrowprops=dict(arrowstyle=\"->\"), fontsize=16)\n",
    "plt.grid(True)\n",
    "#save_fig(\"explained_variance_plot\")\n",
    "plt.show()"
   ]
  },
  {
   "cell_type": "markdown",
   "metadata": {},
   "source": [
    "Check with 3 Components"
   ]
  },
  {
   "cell_type": "code",
   "execution_count": 50,
   "metadata": {},
   "outputs": [
    {
     "data": {
      "text/plain": [
       "PCA(n_components=3)"
      ]
     },
     "execution_count": 50,
     "metadata": {},
     "output_type": "execute_result"
    }
   ],
   "source": [
    "pca2 = PCA(n_components = 3)\n",
    "pca2.fit(X_train)"
   ]
  },
  {
   "cell_type": "code",
   "execution_count": 51,
   "metadata": {},
   "outputs": [
    {
     "data": {
      "text/plain": [
       "array([0.39253179, 0.57463903, 0.7476755 ])"
      ]
     },
     "execution_count": 51,
     "metadata": {},
     "output_type": "execute_result"
    }
   ],
   "source": [
    "cumsum = np.cumsum(pca2.explained_variance_ratio_)\n",
    "cumsum"
   ]
  },
  {
   "cell_type": "code",
   "execution_count": 52,
   "metadata": {},
   "outputs": [],
   "source": [
    "X_reduced = pca.fit_transform(X_train)\n",
    "X_recovered = pca.inverse_transform(X_reduced)\n",
    "X_reduced2 = pca2.fit_transform(X_train)\n",
    "X_recovered2 = pca2.inverse_transform(X_reduced2)"
   ]
  },
  {
   "cell_type": "markdown",
   "metadata": {},
   "source": [
    "### Kernel PCA"
   ]
  },
  {
   "cell_type": "code",
   "execution_count": 53,
   "metadata": {},
   "outputs": [],
   "source": [
    "#from sklearn.decomposition import KernelPCA\n",
    "\n",
    "#rbf_pca = KernelPCA(n_components = 2, kernel=\"rbf\", gamma=0.04)\n",
    "#X_reduced_kpca = rbf_pca.fit_transform(X_train)"
   ]
  },
  {
   "cell_type": "markdown",
   "metadata": {},
   "source": [
    "## K-Means"
   ]
  },
  {
   "cell_type": "markdown",
   "metadata": {},
   "source": [
    "Check again Training set"
   ]
  },
  {
   "cell_type": "code",
   "execution_count": 54,
   "metadata": {},
   "outputs": [
    {
     "data": {
      "text/html": [
       "<div>\n",
       "<style scoped>\n",
       "    .dataframe tbody tr th:only-of-type {\n",
       "        vertical-align: middle;\n",
       "    }\n",
       "\n",
       "    .dataframe tbody tr th {\n",
       "        vertical-align: top;\n",
       "    }\n",
       "\n",
       "    .dataframe thead th {\n",
       "        text-align: right;\n",
       "    }\n",
       "</style>\n",
       "<table border=\"1\" class=\"dataframe\">\n",
       "  <thead>\n",
       "    <tr style=\"text-align: right;\">\n",
       "      <th></th>\n",
       "      <th>age</th>\n",
       "      <th>gender</th>\n",
       "      <th>ap_hi</th>\n",
       "      <th>ap_lo</th>\n",
       "      <th>cholesterol</th>\n",
       "      <th>gluc</th>\n",
       "      <th>bmi</th>\n",
       "    </tr>\n",
       "  </thead>\n",
       "  <tbody>\n",
       "    <tr>\n",
       "      <th>989</th>\n",
       "      <td>0.177405</td>\n",
       "      <td>0</td>\n",
       "      <td>1.408967</td>\n",
       "      <td>0.927993</td>\n",
       "      <td>2</td>\n",
       "      <td>2</td>\n",
       "      <td>-0.047105</td>\n",
       "    </tr>\n",
       "    <tr>\n",
       "      <th>51593</th>\n",
       "      <td>0.958325</td>\n",
       "      <td>0</td>\n",
       "      <td>0.200181</td>\n",
       "      <td>0.927993</td>\n",
       "      <td>2</td>\n",
       "      <td>2</td>\n",
       "      <td>0.995232</td>\n",
       "    </tr>\n",
       "    <tr>\n",
       "      <th>60838</th>\n",
       "      <td>0.659000</td>\n",
       "      <td>1</td>\n",
       "      <td>0.804574</td>\n",
       "      <td>1.994390</td>\n",
       "      <td>0</td>\n",
       "      <td>2</td>\n",
       "      <td>4.476753</td>\n",
       "    </tr>\n",
       "    <tr>\n",
       "      <th>56315</th>\n",
       "      <td>-0.825073</td>\n",
       "      <td>1</td>\n",
       "      <td>0.200181</td>\n",
       "      <td>0.927993</td>\n",
       "      <td>2</td>\n",
       "      <td>0</td>\n",
       "      <td>0.605318</td>\n",
       "    </tr>\n",
       "    <tr>\n",
       "      <th>35115</th>\n",
       "      <td>-2.006580</td>\n",
       "      <td>0</td>\n",
       "      <td>-0.404212</td>\n",
       "      <td>-0.138404</td>\n",
       "      <td>2</td>\n",
       "      <td>2</td>\n",
       "      <td>0.633783</td>\n",
       "    </tr>\n",
       "  </tbody>\n",
       "</table>\n",
       "</div>"
      ],
      "text/plain": [
       "            age gender     ap_hi     ap_lo cholesterol gluc       bmi\n",
       "989    0.177405      0  1.408967  0.927993           2    2 -0.047105\n",
       "51593  0.958325      0  0.200181  0.927993           2    2  0.995232\n",
       "60838  0.659000      1  0.804574  1.994390           0    2  4.476753\n",
       "56315 -0.825073      1  0.200181  0.927993           2    0  0.605318\n",
       "35115 -2.006580      0 -0.404212 -0.138404           2    2  0.633783"
      ]
     },
     "execution_count": 54,
     "metadata": {},
     "output_type": "execute_result"
    }
   ],
   "source": [
    "X_train.head()"
   ]
  },
  {
   "cell_type": "code",
   "execution_count": 55,
   "metadata": {},
   "outputs": [],
   "source": [
    "from sklearn.cluster import KMeans\n",
    "\n",
    "k = 5\n",
    "kmeans = KMeans(n_clusters=k, random_state=42)\n",
    "y_pred = kmeans.fit_predict(X_train)"
   ]
  },
  {
   "cell_type": "markdown",
   "metadata": {},
   "source": [
    "Check how instances are assigned"
   ]
  },
  {
   "cell_type": "code",
   "execution_count": 56,
   "metadata": {},
   "outputs": [
    {
     "data": {
      "text/plain": [
       "array([3, 2, 2, ..., 4, 1, 4])"
      ]
     },
     "execution_count": 56,
     "metadata": {},
     "output_type": "execute_result"
    }
   ],
   "source": [
    "y_pred"
   ]
  },
  {
   "cell_type": "markdown",
   "metadata": {},
   "source": [
    "See the Centroids"
   ]
  },
  {
   "cell_type": "code",
   "execution_count": 57,
   "metadata": {},
   "outputs": [
    {
     "data": {
      "text/plain": [
       "array([[ 0.75678224,  0.36856004, -0.26755807, -0.19333928,  1.70216952,\n",
       "         1.81753223, -0.38129598],\n",
       "       [-1.01234741,  0.42360323, -0.2185937 ,  0.02015644,  1.78312529,\n",
       "         1.87243842, -0.35102624],\n",
       "       [ 0.25150247,  0.1948343 ,  0.15835311,  0.13534486,  1.34603137,\n",
       "         1.58013917,  1.69722811],\n",
       "       [ 0.38250745,  0.40101829,  1.47183728,  1.31745568,  1.35269244,\n",
       "         1.67975492,  0.19407536],\n",
       "       [-0.6983333 ,  0.26158133, -1.15595323, -1.50728756,  1.71752003,\n",
       "         1.83942877, -0.4663937 ]])"
      ]
     },
     "execution_count": 57,
     "metadata": {},
     "output_type": "execute_result"
    }
   ],
   "source": [
    "kmeans.cluster_centers_"
   ]
  },
  {
   "cell_type": "markdown",
   "metadata": {},
   "source": [
    "Indexes of clusters, same as datapoint are assigned to indexes"
   ]
  },
  {
   "cell_type": "code",
   "execution_count": 58,
   "metadata": {
    "scrolled": false
   },
   "outputs": [
    {
     "data": {
      "text/plain": [
       "array([3, 2, 2, ..., 4, 1, 4])"
      ]
     },
     "execution_count": 58,
     "metadata": {},
     "output_type": "execute_result"
    }
   ],
   "source": [
    "kmeans.labels_"
   ]
  },
  {
   "cell_type": "markdown",
   "metadata": {},
   "source": [
    "No predict how an arbitrary Dataset would cluster"
   ]
  },
  {
   "cell_type": "code",
   "execution_count": 59,
   "metadata": {},
   "outputs": [
    {
     "data": {
      "text/plain": [
       "array([[ 1. ,  1. , -0.5, -0.6,  2. ,  1. , -0.8],\n",
       "       [ 1.2,  0. , -0.1, -0.3,  1. ,  1. , -0.1],\n",
       "       [ 0.2,  0. ,  2. ,  1. ,  1. ,  2. , -0.4],\n",
       "       [-0.1,  1. ,  1. ,  0.6,  2. ,  1. , -0.6]])"
      ]
     },
     "execution_count": 59,
     "metadata": {},
     "output_type": "execute_result"
    }
   ],
   "source": [
    "X_new = np.array(\n",
    "    [[1, 1, -0.5, -0.6, 2, 1,-0.8], \n",
    "     [1.2, 0, -0.1, -0.3, 1, 1,-0.1], \n",
    "     [0.2, 0, 2, 1, 1, 2,-0.4], \n",
    "     [-0.1, 1, 1, 0.6, 2, 1,-0.6]])\n",
    "X_new"
   ]
  },
  {
   "cell_type": "code",
   "execution_count": 60,
   "metadata": {},
   "outputs": [
    {
     "data": {
      "text/plain": [
       "array([0, 0, 3, 3])"
      ]
     },
     "execution_count": 60,
     "metadata": {},
     "output_type": "execute_result"
    }
   ],
   "source": [
    "kmeans.predict(X_new)"
   ]
  },
  {
   "cell_type": "markdown",
   "metadata": {},
   "source": [
    "### K-Means Algorithm"
   ]
  },
  {
   "cell_type": "markdown",
   "metadata": {},
   "source": [
    "Lets See how random centroids effect the clustering"
   ]
  },
  {
   "cell_type": "code",
   "execution_count": 61,
   "metadata": {},
   "outputs": [
    {
     "data": {
      "text/plain": [
       "KMeans(algorithm='full', init='random', max_iter=3, n_clusters=5, n_init=1,\n",
       "       random_state=1)"
      ]
     },
     "execution_count": 61,
     "metadata": {},
     "output_type": "execute_result"
    }
   ],
   "source": [
    "kmeans_iter1 = KMeans(n_clusters=5, init=\"random\", n_init=1,\n",
    "                     algorithm=\"full\", max_iter=1, random_state=1)\n",
    "kmeans_iter2 = KMeans(n_clusters=5, init=\"random\", n_init=1,\n",
    "                     algorithm=\"full\", max_iter=2, random_state=1)\n",
    "kmeans_iter3 = KMeans(n_clusters=5, init=\"random\", n_init=1,\n",
    "                     algorithm=\"full\", max_iter=3, random_state=1)\n",
    "kmeans_iter1.fit(X_train)\n",
    "kmeans_iter2.fit(X_train)\n",
    "kmeans_iter3.fit(X_train)"
   ]
  },
  {
   "cell_type": "code",
   "execution_count": 62,
   "metadata": {},
   "outputs": [
    {
     "data": {
      "text/plain": [
       "array([0, 0, 2, ..., 1, 1, 1])"
      ]
     },
     "execution_count": 62,
     "metadata": {},
     "output_type": "execute_result"
    }
   ],
   "source": [
    "kmeans_iter1.labels_"
   ]
  },
  {
   "cell_type": "markdown",
   "metadata": {},
   "source": [
    "Lets see how the clustering looks like for 100 datapoints"
   ]
  },
  {
   "cell_type": "code",
   "execution_count": 63,
   "metadata": {},
   "outputs": [
    {
     "data": {
      "text/plain": [
       "[<matplotlib.lines.Line2D at 0x20bac1bbf40>]"
      ]
     },
     "execution_count": 63,
     "metadata": {},
     "output_type": "execute_result"
    },
    {
     "data": {
      "image/png": "[encoded data removed]",
      "text/plain": [
       "<Figure size 432x288 with 1 Axes>"
      ]
     },
     "metadata": {
      "needs_background": "light"
     },
     "output_type": "display_data"
    }
   ],
   "source": [
    "plt.plot(kmeans_iter1.labels_[900:1000],\"yo\", label=\"Cluster 1\")\n",
    "plt.plot(kmeans_iter1.labels_[900:1000],\"bs\", label=\"Cluster 2\")\n",
    "plt.plot(kmeans_iter1.labels_[900:1000],\"g^\", label=\"Cluster 3\")"
   ]
  },
  {
   "cell_type": "markdown",
   "metadata": {},
   "source": [
    "Lets see the perfomance by \"inertia\", higher is better"
   ]
  },
  {
   "cell_type": "code",
   "execution_count": 64,
   "metadata": {},
   "outputs": [
    {
     "data": {
      "text/plain": [
       "195152.1999258958"
      ]
     },
     "execution_count": 64,
     "metadata": {},
     "output_type": "execute_result"
    }
   ],
   "source": [
    "kmeans_iter1.inertia_"
   ]
  },
  {
   "cell_type": "code",
   "execution_count": 65,
   "metadata": {},
   "outputs": [
    {
     "data": {
      "text/plain": [
       "189998.8665988579"
      ]
     },
     "execution_count": 65,
     "metadata": {},
     "output_type": "execute_result"
    }
   ],
   "source": [
    "kmeans_iter2.inertia_"
   ]
  },
  {
   "cell_type": "code",
   "execution_count": 66,
   "metadata": {},
   "outputs": [
    {
     "data": {
      "text/plain": [
       "184968.11717023267"
      ]
     },
     "execution_count": 66,
     "metadata": {},
     "output_type": "execute_result"
    }
   ],
   "source": [
    "kmeans_iter3.inertia_"
   ]
  },
  {
   "cell_type": "markdown",
   "metadata": {},
   "source": [
    "### Find the optimal number of clusters"
   ]
  },
  {
   "cell_type": "markdown",
   "metadata": {},
   "source": [
    "now we increase the number ok clusters to find a \"good\" k"
   ]
  },
  {
   "cell_type": "code",
   "execution_count": 67,
   "metadata": {},
   "outputs": [],
   "source": [
    "nk = 20\n",
    "kmeans_per_k = [KMeans(n_clusters=k, random_state=42).fit(X)\n",
    "                for k in range(1, nk)]\n",
    "inertias = [model.inertia_ for model in kmeans_per_k]"
   ]
  },
  {
   "cell_type": "code",
   "execution_count": 68,
   "metadata": {},
   "outputs": [
    {
     "data": {
      "text/plain": [
       "[30486553.59877277,\n",
       " 15615135.545590302,\n",
       " 12073140.880083827,\n",
       " 9877602.06144513,\n",
       " 8693519.630062355,\n",
       " 7925283.317268673,\n",
       " 7317532.43862453,\n",
       " 6824009.028020007,\n",
       " 6537217.49665331,\n",
       " 6159861.9422366,\n",
       " 5888339.11516076,\n",
       " 5508342.14320481,\n",
       " 5326683.757747994,\n",
       " 5111843.782741189,\n",
       " 4975877.8829989415,\n",
       " 4756917.0097612785,\n",
       " 4604386.791869625,\n",
       " 4435661.042034093,\n",
       " 4270889.0497875]"
      ]
     },
     "execution_count": 68,
     "metadata": {},
     "output_type": "execute_result"
    }
   ],
   "source": [
    "inertias"
   ]
  },
  {
   "cell_type": "markdown",
   "metadata": {},
   "source": [
    "And do the elbow plot"
   ]
  },
  {
   "cell_type": "code",
   "execution_count": 69,
   "metadata": {},
   "outputs": [
    {
     "data": {
      "text/plain": [
       "Text(0, 0.5, 'Inertia')"
      ]
     },
     "execution_count": 69,
     "metadata": {},
     "output_type": "execute_result"
    },
    {
     "data": {
      "image/png": "[encoded data removed]",
      "text/plain": [
       "<Figure size 432x288 with 1 Axes>"
      ]
     },
     "metadata": {
      "needs_background": "light"
     },
     "output_type": "display_data"
    }
   ],
   "source": [
    "plt.plot(range(1, nk),inertias, \"bo-\")\n",
    "plt.xlabel(\"$k$\", fontsize=14)\n",
    "plt.ylabel(\"Inertia\", fontsize=14)"
   ]
  },
  {
   "cell_type": "markdown",
   "metadata": {},
   "source": [
    "4 or 5 Clusters seem to be significant"
   ]
  },
  {
   "cell_type": "markdown",
   "metadata": {},
   "source": [
    "### Hierarichal Clustering"
   ]
  },
  {
   "cell_type": "markdown",
   "metadata": {},
   "source": [
    "Set up Hyrarchie plot"
   ]
  },
  {
   "cell_type": "code",
   "execution_count": 70,
   "metadata": {},
   "outputs": [],
   "source": [
    "from scipy.cluster.hierarchy import dendrogram\n",
    "\n",
    "def plot_dendrogram(model, **kwargs):\n",
    "    # Create linkage matrix and then plot the dendrogram\n",
    "\n",
    "    # create the counts of samples under each node\n",
    "    counts = np.zeros(model.children_.shape[0])\n",
    "    n_samples = len(model.labels_)\n",
    "    for i, merge in enumerate(model.children_):\n",
    "        current_count = 0\n",
    "        for child_idx in merge:\n",
    "            if child_idx < n_samples:\n",
    "                current_count += 1  # leaf node\n",
    "            else:\n",
    "                current_count += counts[child_idx - n_samples]\n",
    "        counts[i] = current_count\n",
    "\n",
    "    linkage_matrix = np.column_stack(\n",
    "        [model.children_, model.distances_, counts]\n",
    "    ).astype(float)\n",
    "\n",
    "    # Plot the corresponding dendrogram\n",
    "    dendrogram(linkage_matrix, **kwargs)"
   ]
  },
  {
   "cell_type": "markdown",
   "metadata": {},
   "source": [
    "Check again Training set"
   ]
  },
  {
   "cell_type": "code",
   "execution_count": 71,
   "metadata": {
    "scrolled": true
   },
   "outputs": [
    {
     "data": {
      "text/html": [
       "<div>\n",
       "<style scoped>\n",
       "    .dataframe tbody tr th:only-of-type {\n",
       "        vertical-align: middle;\n",
       "    }\n",
       "\n",
       "    .dataframe tbody tr th {\n",
       "        vertical-align: top;\n",
       "    }\n",
       "\n",
       "    .dataframe thead th {\n",
       "        text-align: right;\n",
       "    }\n",
       "</style>\n",
       "<table border=\"1\" class=\"dataframe\">\n",
       "  <thead>\n",
       "    <tr style=\"text-align: right;\">\n",
       "      <th></th>\n",
       "      <th>age</th>\n",
       "      <th>gender</th>\n",
       "      <th>ap_hi</th>\n",
       "      <th>ap_lo</th>\n",
       "      <th>cholesterol</th>\n",
       "      <th>gluc</th>\n",
       "      <th>bmi</th>\n",
       "    </tr>\n",
       "  </thead>\n",
       "  <tbody>\n",
       "    <tr>\n",
       "      <th>989</th>\n",
       "      <td>0.177405</td>\n",
       "      <td>0</td>\n",
       "      <td>1.408967</td>\n",
       "      <td>0.927993</td>\n",
       "      <td>2</td>\n",
       "      <td>2</td>\n",
       "      <td>-0.047105</td>\n",
       "    </tr>\n",
       "    <tr>\n",
       "      <th>51593</th>\n",
       "      <td>0.958325</td>\n",
       "      <td>0</td>\n",
       "      <td>0.200181</td>\n",
       "      <td>0.927993</td>\n",
       "      <td>2</td>\n",
       "      <td>2</td>\n",
       "      <td>0.995232</td>\n",
       "    </tr>\n",
       "    <tr>\n",
       "      <th>60838</th>\n",
       "      <td>0.659000</td>\n",
       "      <td>1</td>\n",
       "      <td>0.804574</td>\n",
       "      <td>1.994390</td>\n",
       "      <td>0</td>\n",
       "      <td>2</td>\n",
       "      <td>4.476753</td>\n",
       "    </tr>\n",
       "    <tr>\n",
       "      <th>56315</th>\n",
       "      <td>-0.825073</td>\n",
       "      <td>1</td>\n",
       "      <td>0.200181</td>\n",
       "      <td>0.927993</td>\n",
       "      <td>2</td>\n",
       "      <td>0</td>\n",
       "      <td>0.605318</td>\n",
       "    </tr>\n",
       "    <tr>\n",
       "      <th>35115</th>\n",
       "      <td>-2.006580</td>\n",
       "      <td>0</td>\n",
       "      <td>-0.404212</td>\n",
       "      <td>-0.138404</td>\n",
       "      <td>2</td>\n",
       "      <td>2</td>\n",
       "      <td>0.633783</td>\n",
       "    </tr>\n",
       "  </tbody>\n",
       "</table>\n",
       "</div>"
      ],
      "text/plain": [
       "            age gender     ap_hi     ap_lo cholesterol gluc       bmi\n",
       "989    0.177405      0  1.408967  0.927993           2    2 -0.047105\n",
       "51593  0.958325      0  0.200181  0.927993           2    2  0.995232\n",
       "60838  0.659000      1  0.804574  1.994390           0    2  4.476753\n",
       "56315 -0.825073      1  0.200181  0.927993           2    0  0.605318\n",
       "35115 -2.006580      0 -0.404212 -0.138404           2    2  0.633783"
      ]
     },
     "execution_count": 71,
     "metadata": {},
     "output_type": "execute_result"
    }
   ],
   "source": [
    "X_train.head()"
   ]
  },
  {
   "cell_type": "markdown",
   "metadata": {},
   "source": [
    "Hierachical clustering is done with \"AgglomerativeClustering\" in sklearn "
   ]
  },
  {
   "cell_type": "code",
   "execution_count": 72,
   "metadata": {},
   "outputs": [
    {
     "data": {
      "image/png": "[encoded data removed]",
      "text/plain": [
       "<Figure size 432x288 with 1 Axes>"
      ]
     },
     "metadata": {
      "needs_background": "light"
     },
     "output_type": "display_data"
    }
   ],
   "source": [
    "from sklearn.cluster import AgglomerativeClustering\n",
    "\n",
    "clustering = AgglomerativeClustering(linkage = 'ward', distance_threshold=0, n_clusters=None)\n",
    "model_cluster = clustering.fit(X_train)\n",
    "\n",
    "plot_dendrogram(model_cluster, truncate_mode=\"level\", p=3)"
   ]
  },
  {
   "cell_type": "markdown",
   "metadata": {},
   "source": [
    "Hyrarchie plot"
   ]
  },
  {
   "cell_type": "markdown",
   "metadata": {},
   "source": [
    "## Supervised Learning\n",
    "\n",
    "- Linear Reg\n",
    "- Logistic Reg\n",
    "- Randforest\n",
    "- ???"
   ]
  },
  {
   "cell_type": "markdown",
   "metadata": {},
   "source": [
    "## Deep Learning\n",
    "\n",
    "- MLP\n",
    "- Nural Net"
   ]
  },
  {
   "cell_type": "markdown",
   "metadata": {},
   "source": [
    "### K Nearest neighbours"
   ]
  },
  {
   "cell_type": "markdown",
   "metadata": {},
   "source": [
    "we know that the target labels are binary. So we set k for 2"
   ]
  },
  {
   "cell_type": "code",
   "execution_count": 73,
   "metadata": {},
   "outputs": [],
   "source": [
    "k_range = list(range(1, 10))\n",
    "scores = []\n",
    "for k in k_range:\n",
    "    knn = KNeighborsClassifier(n_neighbors=k)\n",
    "    knn.fit(X_train, y_train)\n",
    "    scores.append(knn.score(X_test,y_test))"
   ]
  },
  {
   "cell_type": "code",
   "execution_count": 74,
   "metadata": {},
   "outputs": [
    {
     "data": {
      "text/plain": [
       "Text(0, 0.5, 'Accuracy')"
      ]
     },
     "execution_count": 74,
     "metadata": {},
     "output_type": "execute_result"
    },
    {
     "data": {
      "image/png": "[encoded data removed]",
      "text/plain": [
       "<Figure size 432x360 with 1 Axes>"
      ]
     },
     "metadata": {
      "needs_background": "light"
     },
     "output_type": "display_data"
    }
   ],
   "source": [
    "f, ax = plt.subplots(figsize = (6,5))\n",
    "ax.plot(k_range, scores)\n",
    "plt.xlabel('K neighbors')\n",
    "plt.ylabel('Accuracy')"
   ]
  },
  {
   "cell_type": "code",
   "execution_count": null,
   "metadata": {},
   "outputs": [],
   "source": []
  }
 ],
 "metadata": {
  "kernelspec": {
   "display_name": "Python 3",
   "language": "python",
   "name": "python3"
  },
  "language_info": {
   "codemirror_mode": {
    "name": "ipython",
    "version": 3
   },
   "file_extension": ".py",
   "mimetype": "text/x-python",
   "name": "python",
   "nbconvert_exporter": "python",
   "pygments_lexer": "ipython3",
   "version": "3.8.8"
  }
 },
 "nbformat": 4,
 "nbformat_minor": 4
}
